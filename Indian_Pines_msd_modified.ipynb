{
  "nbformat": 4,
  "nbformat_minor": 0,
  "metadata": {
    "accelerator": "GPU",
    "colab": {
      "name": "Indian Pines msd modified.ipynb",
      "provenance": [],
      "collapsed_sections": [],
      "include_colab_link": true
    },
    "kernelspec": {
      "display_name": "Python 3",
      "language": "python",
      "name": "python3"
    },
    "language_info": {
      "codemirror_mode": {
        "name": "ipython",
        "version": 3
      },
      "file_extension": ".py",
      "mimetype": "text/x-python",
      "name": "python",
      "nbconvert_exporter": "python",
      "pygments_lexer": "ipython3",
      "version": "3.7.4"
    }
  },
  "cells": [
    {
      "cell_type": "markdown",
      "metadata": {
        "id": "view-in-github",
        "colab_type": "text"
      },
      "source": [
        "<a href=\"https://colab.research.google.com/github/ucalyptus/BS-Nets-Implementation-Pytorch/blob/dual-attention/Indian_Pines_msd_modified.ipynb\" target=\"_parent\"><img src=\"https://colab.research.google.com/assets/colab-badge.svg\" alt=\"Open In Colab\"/></a>"
      ]
    },
    {
      "cell_type": "code",
      "metadata": {
        "colab_type": "code",
        "id": "i-WGRlA3KyxB",
        "outputId": "d7df3ecc-13c4-4f70-a802-a089f62099e2",
        "colab": {
          "base_uri": "https://localhost:8080/",
          "height": 81
        }
      },
      "source": [
        "import warnings\n",
        "warnings.filterwarnings('ignore',category=FutureWarning)\n",
        "\n",
        "import keras\n",
        "from keras import regularizers\n",
        "from keras.layers import Conv2D, Conv3D, Flatten, Dense, Reshape, BatchNormalization, ReLU, PReLU, MaxPool3D, Conv3DTranspose\n",
        "from keras.layers import Dropout, Input, GlobalAveragePooling2D, multiply, add, Activation, Permute, merge\n",
        "from keras.models import Model, Sequential\n",
        "from keras.optimizers import Adam\n",
        "from keras.callbacks import ModelCheckpoint\n",
        "from keras.utils import np_utils\n",
        "from keras.regularizers import l2\n",
        "from keras import backend as K\n",
        "from scipy.stats import entropy\n",
        "import tensorflow as tf\n",
        "from keras.layers import Layer\n",
        "\n",
        "from sklearn.decomposition import PCA\n",
        "from sklearn.model_selection import train_test_split\n",
        "from sklearn.metrics import confusion_matrix, accuracy_score, classification_report, cohen_kappa_score\n",
        "\n",
        "from operator import truediv\n",
        "\n",
        "from plotly.offline import init_notebook_mode\n",
        "import numpy as np\n",
        "import matplotlib.pyplot as plt\n",
        "import scipy.io as sio\n",
        "import os\n",
        "# import spectral\n",
        "\n",
        "init_notebook_mode(connected=True)\n",
        "%matplotlib inline\n",
        "#%tensorflow_version 1.x"
      ],
      "execution_count": 1,
      "outputs": [
        {
          "output_type": "stream",
          "text": [
            "Using TensorFlow backend.\n"
          ],
          "name": "stderr"
        },
        {
          "output_type": "display_data",
          "data": {
            "text/html": [
              "<p style=\"color: red;\">\n",
              "The default version of TensorFlow in Colab will soon switch to TensorFlow 2.x.<br>\n",
              "We recommend you <a href=\"https://www.tensorflow.org/guide/migrate\" target=\"_blank\">upgrade</a> now \n",
              "or ensure your notebook will continue to use TensorFlow 1.x via the <code>%tensorflow_version 1.x</code> magic:\n",
              "<a href=\"https://colab.research.google.com/notebooks/tensorflow_version.ipynb\" target=\"_blank\">more info</a>.</p>\n"
            ],
            "text/plain": [
              "<IPython.core.display.HTML object>"
            ]
          },
          "metadata": {
            "tags": []
          }
        },
        {
          "output_type": "display_data",
          "data": {
            "text/html": [
              "        <script type=\"text/javascript\">\n",
              "        window.PlotlyConfig = {MathJaxConfig: 'local'};\n",
              "        if (window.MathJax) {MathJax.Hub.Config({SVG: {font: \"STIX-Web\"}});}\n",
              "        if (typeof require !== 'undefined') {\n",
              "        require.undef(\"plotly\");\n",
              "        requirejs.config({\n",
              "            paths: {\n",
              "                'plotly': ['https://cdn.plot.ly/plotly-latest.min']\n",
              "            }\n",
              "        });\n",
              "        require(['plotly'], function(Plotly) {\n",
              "            window._Plotly = Plotly;\n",
              "        });\n",
              "        }\n",
              "        </script>\n",
              "        "
            ]
          },
          "metadata": {
            "tags": []
          }
        }
      ]
    },
    {
      "cell_type": "code",
      "metadata": {
        "colab_type": "code",
        "id": "D7_l6NRBKyxH",
        "outputId": "af9f0065-14fa-4933-dd4b-e7f6fbf2acae",
        "colab": {
          "base_uri": "https://localhost:8080/",
          "height": 610
        }
      },
      "source": [
        "!pip install -U spectral\n",
        "if not (os.path.isfile('/content/Indian_pines_corrected.mat')):\n",
        "  !wget http://www.ehu.eus/ccwintco/uploads/6/67/Indian_pines_corrected.mat\n",
        "if not (os.path.isfile('/content/Indian_pines_gt.mat')):\n",
        "  !wget http://www.ehu.eus/ccwintco/uploads/c/c4/Indian_pines_gt.mat"
      ],
      "execution_count": 2,
      "outputs": [
        {
          "output_type": "stream",
          "text": [
            "Collecting spectral\n",
            "\u001b[?25l  Downloading https://files.pythonhosted.org/packages/48/8e/db1d750fb0153027e4e945f91f04b72a3b8b9a0cfdc2c8a33bedcb27740d/spectral-0.20.tar.gz (143kB)\n",
            "\r\u001b[K     |██▎                             | 10kB 28.9MB/s eta 0:00:01\r\u001b[K     |████▋                           | 20kB 2.1MB/s eta 0:00:01\r\u001b[K     |██████▉                         | 30kB 3.1MB/s eta 0:00:01\r\u001b[K     |█████████▏                      | 40kB 2.0MB/s eta 0:00:01\r\u001b[K     |███████████▍                    | 51kB 2.5MB/s eta 0:00:01\r\u001b[K     |█████████████▊                  | 61kB 3.0MB/s eta 0:00:01\r\u001b[K     |████████████████                | 71kB 3.5MB/s eta 0:00:01\r\u001b[K     |██████████████████▎             | 81kB 3.9MB/s eta 0:00:01\r\u001b[K     |████████████████████▌           | 92kB 4.4MB/s eta 0:00:01\r\u001b[K     |██████████████████████▉         | 102kB 3.3MB/s eta 0:00:01\r\u001b[K     |█████████████████████████       | 112kB 3.3MB/s eta 0:00:01\r\u001b[K     |███████████████████████████▍    | 122kB 3.3MB/s eta 0:00:01\r\u001b[K     |█████████████████████████████▋  | 133kB 3.3MB/s eta 0:00:01\r\u001b[K     |████████████████████████████████| 143kB 3.3MB/s eta 0:00:01\r\u001b[K     |████████████████████████████████| 153kB 3.3MB/s \n",
            "\u001b[?25hRequirement already satisfied, skipping upgrade: numpy in /usr/local/lib/python3.6/dist-packages (from spectral) (1.17.5)\n",
            "Building wheels for collected packages: spectral\n",
            "  Building wheel for spectral (setup.py) ... \u001b[?25l\u001b[?25hdone\n",
            "  Created wheel for spectral: filename=spectral-0.20-cp36-none-any.whl size=183918 sha256=ddc1d028338019222c45115cee3c56be1f5f2623550911c747e4fa91e615e746\n",
            "  Stored in directory: /root/.cache/pip/wheels/ad/cf/f3/3cab28f6aed46f15c8db09c6ad678483610426261025e61ff8\n",
            "Successfully built spectral\n",
            "Installing collected packages: spectral\n",
            "Successfully installed spectral-0.20\n",
            "--2020-02-01 12:09:18--  http://www.ehu.eus/ccwintco/uploads/6/67/Indian_pines_corrected.mat\n",
            "Resolving www.ehu.eus (www.ehu.eus)... 158.227.0.65, 2001:720:1410::65\n",
            "Connecting to www.ehu.eus (www.ehu.eus)|158.227.0.65|:80... connected.\n",
            "HTTP request sent, awaiting response... 200 OK\n",
            "Length: 5953527 (5.7M) [text/plain]\n",
            "Saving to: ‘Indian_pines_corrected.mat’\n",
            "\n",
            "Indian_pines_correc 100%[===================>]   5.68M   676KB/s    in 9.4s    \n",
            "\n",
            "2020-02-01 12:09:28 (615 KB/s) - ‘Indian_pines_corrected.mat’ saved [5953527/5953527]\n",
            "\n",
            "--2020-02-01 12:09:32--  http://www.ehu.eus/ccwintco/uploads/c/c4/Indian_pines_gt.mat\n",
            "Resolving www.ehu.eus (www.ehu.eus)... 158.227.0.65, 2001:720:1410::65\n",
            "Connecting to www.ehu.eus (www.ehu.eus)|158.227.0.65|:80... connected.\n",
            "HTTP request sent, awaiting response... 200 OK\n",
            "Length: 1125 (1.1K) [text/plain]\n",
            "Saving to: ‘Indian_pines_gt.mat’\n",
            "\n",
            "Indian_pines_gt.mat 100%[===================>]   1.10K  --.-KB/s    in 0s      \n",
            "\n",
            "2020-02-01 12:09:32 (224 MB/s) - ‘Indian_pines_gt.mat’ saved [1125/1125]\n",
            "\n"
          ],
          "name": "stdout"
        }
      ]
    },
    {
      "cell_type": "code",
      "metadata": {
        "colab_type": "code",
        "id": "ayKszFCcKyxJ",
        "colab": {}
      },
      "source": [
        "def loadData():\n",
        "    data = sio.loadmat('Indian_pines_corrected.mat')['indian_pines_corrected']\n",
        "    labels = sio.loadmat('Indian_pines_gt.mat')['indian_pines_gt']\n",
        "    \n",
        "    return data, labels"
      ],
      "execution_count": 0,
      "outputs": []
    },
    {
      "cell_type": "code",
      "metadata": {
        "colab_type": "code",
        "id": "Zyw923t1KyxM",
        "colab": {}
      },
      "source": [
        "def padWithZeros(X, margin=2):\n",
        "    newX = np.zeros((X.shape[0] + 2 * margin, X.shape[1] + 2* margin, X.shape[2]))\n",
        "    x_offset = margin\n",
        "    y_offset = margin\n",
        "    newX[x_offset:X.shape[0] + x_offset, y_offset:X.shape[1] + y_offset, :] = X\n",
        "    return newX"
      ],
      "execution_count": 0,
      "outputs": []
    },
    {
      "cell_type": "code",
      "metadata": {
        "colab_type": "code",
        "id": "j-pUBs9hKyxO",
        "colab": {}
      },
      "source": [
        "def createImageCubes(X, y, windowSize=5, removeZeroLabels = True):\n",
        "    margin = int((windowSize - 1) / 2)\n",
        "    zeroPaddedX = padWithZeros(X, margin=margin)\n",
        "    # split patches\n",
        "    patchesData = np.zeros((X.shape[0] * X.shape[1], windowSize, windowSize, X.shape[2]))\n",
        "    patchesLabels = np.zeros((X.shape[0] * X.shape[1]))\n",
        "    patchIndex = 0\n",
        "    for r in range(margin, zeroPaddedX.shape[0] - margin):\n",
        "        for c in range(margin, zeroPaddedX.shape[1] - margin):\n",
        "            patch = zeroPaddedX[r - margin:r + margin + 1, c - margin:c + margin + 1]   \n",
        "            patchesData[patchIndex, :, :, :] = patch\n",
        "            patchesLabels[patchIndex] = y[r-margin, c-margin]\n",
        "            patchIndex = patchIndex + 1\n",
        "    if removeZeroLabels:\n",
        "        patchesData = patchesData[patchesLabels>0,:,:,:]\n",
        "        patchesLabels = patchesLabels[patchesLabels>0]\n",
        "        patchesLabels -= 1\n",
        "    return patchesData, patchesLabels"
      ],
      "execution_count": 0,
      "outputs": []
    },
    {
      "cell_type": "code",
      "metadata": {
        "colab_type": "code",
        "id": "0qgTzXVKKyxQ",
        "colab": {}
      },
      "source": [
        "X, y = loadData()"
      ],
      "execution_count": 0,
      "outputs": []
    },
    {
      "cell_type": "code",
      "metadata": {
        "colab_type": "code",
        "id": "8Fdu_Qsz7MZN",
        "outputId": "dcc97f3c-d966-4a35-d0f8-852510ced2fc",
        "colab": {
          "base_uri": "https://localhost:8080/",
          "height": 34
        }
      },
      "source": [
        "X.shape"
      ],
      "execution_count": 7,
      "outputs": [
        {
          "output_type": "execute_result",
          "data": {
            "text/plain": [
              "(145, 145, 200)"
            ]
          },
          "metadata": {
            "tags": []
          },
          "execution_count": 7
        }
      ]
    },
    {
      "cell_type": "code",
      "metadata": {
        "colab_type": "code",
        "id": "wPbCGwgrKyxT",
        "outputId": "52c9e91e-628d-48f0-af8a-3e5549fbf38c",
        "colab": {
          "base_uri": "https://localhost:8080/",
          "height": 34
        }
      },
      "source": [
        "X, y = createImageCubes(X, y, 5)\n",
        "\n",
        "X.shape, y.shape"
      ],
      "execution_count": 8,
      "outputs": [
        {
          "output_type": "execute_result",
          "data": {
            "text/plain": [
              "((10249, 5, 5, 200), (10249,))"
            ]
          },
          "metadata": {
            "tags": []
          },
          "execution_count": 8
        }
      ]
    },
    {
      "cell_type": "code",
      "metadata": {
        "id": "juWzQDi1ZUzh",
        "colab_type": "code",
        "colab": {}
      },
      "source": [
        "n_bands = 200\n",
        "target_bands = 15"
      ],
      "execution_count": 0,
      "outputs": []
    },
    {
      "cell_type": "markdown",
      "metadata": {
        "colab_type": "text",
        "id": "CmInivJsKyxW"
      },
      "source": [
        "# Model and Training"
      ]
    },
    {
      "cell_type": "code",
      "metadata": {
        "colab_type": "code",
        "id": "yl5WqJl6KyxW",
        "colab": {}
      },
      "source": [
        "# X = X.reshape(-1, 200, 5, 5)\n",
        "# X.shape"
      ],
      "execution_count": 0,
      "outputs": []
    },
    {
      "cell_type": "code",
      "metadata": {
        "id": "oQSutXI2P0g0",
        "colab_type": "code",
        "outputId": "566ef1be-9550-4ba2-eed4-b3fc74190c49",
        "colab": {
          "base_uri": "https://localhost:8080/",
          "height": 609
        }
      },
      "source": [
        "X = X.reshape(-1,5,5,200)\n",
        "ENTROPY = np.zeros([10249,200])\n",
        "for b in range(0,10249):  #10249\n",
        "  band_subset = X[b,:,:,:]\n",
        "  n_row,n_column,n_band= band_subset.shape\n",
        "  N = n_row * n_column\n",
        "  hist = []\n",
        "  #ENTROPY_per_batch = [] \n",
        "  for i in range(n_band):\n",
        "    hist_, _ = np.histogram(band_subset[:, :, i], 256)\n",
        "    hist.append(hist_ / N)\n",
        "    band_i = hist[i].reshape(-1)/np.sum(hist[i])\n",
        "    entr_i = entropy(band_i)\n",
        "    ENTROPY[b][i] += entr_i  ## the entropy of one band for one batch\n",
        "    #ENTROPY_per_batch.append(entr_i) #/10249\n",
        "  hist = np.asarray(hist)\n",
        "  hist[np.nonzero(hist <= 0)] = 1e-1\n",
        "  #ENTROPY_per_batch = np.asarray(ENTROPY_per_batch)\n",
        "  \n",
        "  ##print(hist.shape)  gives  (200,256)\n",
        "     ## after looping will be len(list) = 200    \n",
        "\n",
        "fig = plt.figure(figsize=(40,10))\n",
        "ax1 = fig.add_subplot(121)\n",
        "ax1.plot(np.average(ENTROPY,axis =0))\n",
        "\n",
        "\n",
        "\n",
        "\n",
        "\n",
        "\n",
        "\n"
      ],
      "execution_count": 11,
      "outputs": [
        {
          "output_type": "execute_result",
          "data": {
            "text/plain": [
              "[<matplotlib.lines.Line2D at 0x7fdacb7ab780>]"
            ]
          },
          "metadata": {
            "tags": []
          },
          "execution_count": 11
        },
        {
          "output_type": "display_data",
          "data": {
            "image/png": "[encoded data removed]",
            "text/plain": [
              "<Figure size 2880x720 with 1 Axes>"
            ]
          },
          "metadata": {
            "tags": []
          }
        }
      ]
    },
    {
      "cell_type": "code",
      "metadata": {
        "colab_type": "code",
        "id": "uMnbZ0zj5hdJ",
        "colab": {}
      },
      "source": [
        "def BAM():\n",
        "    model = Sequential()\n",
        "    model.add(Conv2D(filters=64,\n",
        "                     input_shape=(5, 5, 200),\n",
        "                     kernel_size=(3,3),\n",
        "                     strides=1,\n",
        "                     padding='valid', name=\"Conv1\"))\n",
        "    model.add(ReLU(name=\"ReLU1\"))\n",
        "    model.add(GlobalAveragePooling2D(data_format=\"channels_first\"))\n",
        "    \n",
        "    model.add(Dense(128))\n",
        "    model.add(ReLU(name=\"ReLU2\"))\n",
        "    model.add(Dense(200, activation=\"sigmoid\"))\n",
        "  \n",
        "    return model"
      ],
      "execution_count": 0,
      "outputs": []
    },
    {
      "cell_type": "code",
      "metadata": {
        "colab_type": "code",
        "id": "dvQBnOxVKyxZ",
        "colab": {}
      },
      "source": [
        "def DCAE(weight_decay=0.0005):\n",
        "    model = Sequential()\n",
        "    model.add(Conv3D(filters=24,\n",
        "                     input_shape=(200, 5, 5, 1),\n",
        "                     kernel_size=(24, 3, 3),\n",
        "                     strides=(1, 1, 1),\n",
        "                     kernel_regularizer=regularizers.l2(l=weight_decay),\n",
        "                     padding='valid', name=\"Conv1\"))\n",
        "    model.add(BatchNormalization(name=\"BN1\"))\n",
        "    model.add(PReLU(name=\"PReLU1\"))\n",
        "\n",
        "    model.add(Conv3D(filters=48,\n",
        "                     kernel_size=(24, 3, 3),\n",
        "                     strides=(1, 1, 1),\n",
        "                     kernel_regularizer=regularizers.l2(l=weight_decay),\n",
        "                     padding='valid', name=\"Conv2\"))\n",
        "    model.add(BatchNormalization(name=\"BN2\"))\n",
        "    model.add(PReLU(name=\"PReLU2\"))\n",
        "\n",
        "    model.add(MaxPool3D(pool_size=(18, 1, 1),\n",
        "                        strides=(18, 1, 1), name=\"Pool1\"))\n",
        "\n",
        "    model.add(Conv3DTranspose(filters=24,\n",
        "                              kernel_size=(9, 3, 3),\n",
        "                              kernel_regularizer=regularizers.l2(\n",
        "                                  l=weight_decay),\n",
        "                              strides=(22, 1, 1), name=\"Deconv1\", padding='valid'))\n",
        "    model.add(BatchNormalization(name=\"BN3\"))\n",
        "    model.add(PReLU(name=\"PReLU3\"))\n",
        "    model.add(Conv3DTranspose(filters=1,\n",
        "                              kernel_size=(25, 3, 3),\n",
        "                              kernel_regularizer=regularizers.l2(\n",
        "                                  l=weight_decay),\n",
        "                              strides=(1, 1, 1), name=\"Deconv2\", padding='valid'))\n",
        "    model.add(BatchNormalization(name=\"BN4\"))\n",
        "    \n",
        "    return model"
      ],
      "execution_count": 0,
      "outputs": []
    },
    {
      "cell_type": "code",
      "metadata": {
        "colab_type": "code",
        "id": "fPtnuhhpDAC8",
        "colab": {}
      },
      "source": [
        "def Ensemble():\n",
        "    input_layer = Input((5, 5, 200))\n",
        "    band_activations = BAM()(input_layer)\n",
        "    # band_activations = Reshape((200, 1, 1))(band_activations)\n",
        "    \n",
        "    bam_output = multiply([band_activations, input_layer])\n",
        "    \n",
        "    bam_output = Reshape((200, 5, 5, 1))(bam_output)\n",
        "    # da_output = DA()(input_layer)\n",
        "    # da_output = Permute((3,1,2), input_shape=(11,11,200))(da_output)\n",
        "    # da_output = Reshape((200, 11, 11, 1))(da_output)\n",
        "    output = DCAE()(bam_output)\n",
        "    \n",
        "    \n",
        "    return Model(inputs=input_layer, outputs=output)\n",
        "    "
      ],
      "execution_count": 0,
      "outputs": []
    },
    {
      "cell_type": "code",
      "metadata": {
        "colab_type": "code",
        "id": "CdiDxfoAKyxb",
        "outputId": "effaed0d-6285-4486-8d65-0afeb3302e35",
        "colab": {
          "base_uri": "https://localhost:8080/",
          "height": 506
        }
      },
      "source": [
        "# model = DCAE(weight_decay=0.0005)\n",
        "model = Ensemble()\n",
        "model.summary()"
      ],
      "execution_count": 15,
      "outputs": [
        {
          "output_type": "stream",
          "text": [
            "WARNING:tensorflow:From /usr/local/lib/python3.6/dist-packages/keras/backend/tensorflow_backend.py:66: The name tf.get_default_graph is deprecated. Please use tf.compat.v1.get_default_graph instead.\n",
            "\n",
            "WARNING:tensorflow:From /usr/local/lib/python3.6/dist-packages/keras/backend/tensorflow_backend.py:541: The name tf.placeholder is deprecated. Please use tf.compat.v1.placeholder instead.\n",
            "\n",
            "WARNING:tensorflow:From /usr/local/lib/python3.6/dist-packages/keras/backend/tensorflow_backend.py:4432: The name tf.random_uniform is deprecated. Please use tf.random.uniform instead.\n",
            "\n",
            "WARNING:tensorflow:From /usr/local/lib/python3.6/dist-packages/keras/backend/tensorflow_backend.py:148: The name tf.placeholder_with_default is deprecated. Please use tf.compat.v1.placeholder_with_default instead.\n",
            "\n",
            "Model: \"model_1\"\n",
            "__________________________________________________________________________________________________\n",
            "Layer (type)                    Output Shape         Param #     Connected to                     \n",
            "==================================================================================================\n",
            "input_1 (InputLayer)            (None, 5, 5, 200)    0                                            \n",
            "__________________________________________________________________________________________________\n",
            "sequential_1 (Sequential)       (None, 200)          141576      input_1[0][0]                    \n",
            "__________________________________________________________________________________________________\n",
            "multiply_1 (Multiply)           (None, 5, 5, 200)    0           sequential_1[1][0]               \n",
            "                                                                 input_1[0][0]                    \n",
            "__________________________________________________________________________________________________\n",
            "reshape_1 (Reshape)             (None, 200, 5, 5, 1) 0           multiply_1[0][0]                 \n",
            "__________________________________________________________________________________________________\n",
            "sequential_2 (Sequential)       (None, 200, 5, 5, 1) 436853      reshape_1[0][0]                  \n",
            "==================================================================================================\n",
            "Total params: 578,429\n",
            "Trainable params: 578,235\n",
            "Non-trainable params: 194\n",
            "__________________________________________________________________________________________________\n"
          ],
          "name": "stdout"
        }
      ]
    },
    {
      "cell_type": "code",
      "metadata": {
        "colab_type": "code",
        "id": "-Lt3ejW8OkA3",
        "colab": {}
      },
      "source": [
        "ENTROPY = np.zeros(n_bands)\n",
        "import skimage.measure\n",
        "def topkbands(x_predict, topk):\n",
        "  for i in range(0,len(ENTROPY)):\n",
        "    ENTROPY[i]+=entropy(np.unique(x_predict[:,i,:,:],return_counts=True)[1],base=2)\n",
        "  \n",
        "  \n",
        "  return ENTROPY.argsort()[-topk:][::-1]"
      ],
      "execution_count": 0,
      "outputs": []
    },
    {
      "cell_type": "code",
      "metadata": {
        "id": "O7cCbiv3uzzO",
        "colab_type": "code",
        "colab": {}
      },
      "source": [
        "def MeanSpectralDivergence(band_subset):\n",
        "\n",
        "  n_row, n_column, n_band = band_subset.shape\n",
        "  N = n_row * n_column\n",
        "  hist = []\n",
        "  for i in range(n_band):\n",
        "    hist_, _ = np.histogram(band_subset[:, :, i], 256)\n",
        "    hist.append(hist_ / N)\n",
        "  hist = np.asarray(hist)\n",
        "  hist[np.nonzero(hist <= 0)] = 1e-20\n",
        "    # entropy_lst = entropy(hist.transpose())\n",
        "  info_div = 0\n",
        "    # band_subset[np.nonzero(band_subset <= 0)] = 1e-20\n",
        "  for b_i in range(n_band):\n",
        "    for b_j in range(n_band):\n",
        "      band_i = hist[b_i].reshape(-1)/np.sum(hist[b_i])\n",
        "      band_j = hist[b_j].reshape(-1)/np.sum(hist[b_j])\n",
        "      entr_ij = entropy(band_i, band_j)\n",
        "      entr_ji = entropy(band_j, band_i)\n",
        "      entr_sum = entr_ij + entr_ji\n",
        "      info_div += entr_sum\n",
        "  msd = info_div * 2 / (n_band * (n_band - 1))\n",
        "  return msd\n"
      ],
      "execution_count": 0,
      "outputs": []
    },
    {
      "cell_type": "code",
      "metadata": {
        "id": "gkcq55Ty9uJa",
        "colab_type": "code",
        "colab": {}
      },
      "source": [
        "def MSD2(x_predict,topbandindices):\n",
        "  ##create band_subset\n",
        "  x_predict = x_predict.reshape(10249,200,5,5)\n",
        "  #print(x_predict.shape)                                        ## 10249,200,5,5\n",
        "  band_subset_list = []\n",
        "  for i in range(0,len(topbandindices)):\n",
        "    band_subset_list.append(x_predict[:,i,:,:])     \n",
        "  band_subset = np.array(band_subset_list)    \n",
        "  #print(band_subset.shape)                                      ## band_subset.shape = ## 15,10249,5,5\n",
        "  band_subset = np.stack(band_subset,axis = 1)     \n",
        "  #print(band_subset.shape)                                      ## required shape is [10249,15,5,5] \n",
        "  band_subset = band_subset.reshape(10249,5,5,-1)\n",
        "  #print(band_subset.shape)                \n",
        "  xx = []\n",
        "  for k in range(0,10249):\n",
        "    xx.append(MeanSpectralDivergence(band_subset[k,:,:,:]))   \n",
        "                                                                ## then reshape to [10249,5,5,15] \n",
        "  print(np.average(np.array(xx)))\n",
        "\n",
        "\n",
        "\n",
        "\n"
      ],
      "execution_count": 0,
      "outputs": []
    },
    {
      "cell_type": "code",
      "metadata": {
        "id": "S7S8zN-hrG4H",
        "colab_type": "code",
        "colab": {}
      },
      "source": [
        "def plott(ENTROPY):\n",
        "  fig = plt.figure(figsize=(40,4))\n",
        "  ax1 = fig.add_subplot(121)\n",
        "  ax1.plot(ENTROPY)\n"
      ],
      "execution_count": 0,
      "outputs": []
    },
    {
      "cell_type": "code",
      "metadata": {
        "id": "H41O16SqrHnK",
        "colab_type": "code",
        "colab": {}
      },
      "source": [
        "ENTROPY = np.zeros(200)\n",
        "def output_entropy(x_predict):\n",
        "  for i in range(0,len(ENTROPY)):\n",
        "    ENTROPY[i]+=entropy(np.unique(x_predict[:,i,:,:],return_counts=True)[1],base=2)\n",
        "  plott(ENTROPY)"
      ],
      "execution_count": 0,
      "outputs": []
    },
    {
      "cell_type": "code",
      "metadata": {
        "colab_type": "code",
        "id": "2x0UcifSKyxj",
        "colab": {}
      },
      "source": [
        "from keras.callbacks import Callback\n",
        "from sklearn.metrics import mean_squared_error\n",
        "import math\n",
        "\n",
        "class MyLogger(Callback):\n",
        "\n",
        "  def on_train_end(self,logs=None):\n",
        "    x_predict = model.predict(X)\n",
        "    bandlist = topkbands(x_predict, 15)\n",
        "    with open('BANDLIST.txt', 'w') as filehandle:\n",
        "      for banditem in bandlist:\n",
        "        filehandle.write('%s\\n' % banditem)  ## Manually download BANDLIST.txt from colab.\n",
        "    MSD2(x_predict, bandlist)\n",
        "    "
      ],
      "execution_count": 0,
      "outputs": []
    },
    {
      "cell_type": "code",
      "metadata": {
        "colab_type": "code",
        "id": "bJYuFFA6Kyxl",
        "outputId": "c1457334-7436-4591-f12b-2bea78be0ce5",
        "colab": {
          "base_uri": "https://localhost:8080/",
          "height": 1000
        }
      },
      "source": [
        "model.compile(loss=keras.losses.mse, optimizer=keras.optimizers.Adam(lr=0.1),metrics=['accuracy'])\n",
        "\n",
        "n_epoch = 50\n",
        "\n",
        "history = model.fit(X, X.reshape(-1, 200, 5, 5, 1), epochs=n_epoch, shuffle=True, verbose=1, batch_size=64, callbacks=[MyLogger()])"
      ],
      "execution_count": 22,
      "outputs": [
        {
          "output_type": "stream",
          "text": [
            "WARNING:tensorflow:From /usr/local/lib/python3.6/dist-packages/keras/optimizers.py:793: The name tf.train.Optimizer is deprecated. Please use tf.compat.v1.train.Optimizer instead.\n",
            "\n",
            "WARNING:tensorflow:From /usr/local/lib/python3.6/dist-packages/keras/backend/tensorflow_backend.py:1033: The name tf.assign_add is deprecated. Please use tf.compat.v1.assign_add instead.\n",
            "\n",
            "WARNING:tensorflow:From /usr/local/lib/python3.6/dist-packages/keras/backend/tensorflow_backend.py:1020: The name tf.assign is deprecated. Please use tf.compat.v1.assign instead.\n",
            "\n",
            "WARNING:tensorflow:From /usr/local/lib/python3.6/dist-packages/keras/backend/tensorflow_backend.py:3005: The name tf.Session is deprecated. Please use tf.compat.v1.Session instead.\n",
            "\n",
            "Epoch 1/50\n",
            "WARNING:tensorflow:From /usr/local/lib/python3.6/dist-packages/keras/backend/tensorflow_backend.py:190: The name tf.get_default_session is deprecated. Please use tf.compat.v1.get_default_session instead.\n",
            "\n",
            "WARNING:tensorflow:From /usr/local/lib/python3.6/dist-packages/keras/backend/tensorflow_backend.py:197: The name tf.ConfigProto is deprecated. Please use tf.compat.v1.ConfigProto instead.\n",
            "\n",
            "WARNING:tensorflow:From /usr/local/lib/python3.6/dist-packages/keras/backend/tensorflow_backend.py:207: The name tf.global_variables is deprecated. Please use tf.compat.v1.global_variables instead.\n",
            "\n",
            "WARNING:tensorflow:From /usr/local/lib/python3.6/dist-packages/keras/backend/tensorflow_backend.py:216: The name tf.is_variable_initialized is deprecated. Please use tf.compat.v1.is_variable_initialized instead.\n",
            "\n",
            "WARNING:tensorflow:From /usr/local/lib/python3.6/dist-packages/keras/backend/tensorflow_backend.py:223: The name tf.variables_initializer is deprecated. Please use tf.compat.v1.variables_initializer instead.\n",
            "\n",
            "10249/10249 [==============================] - 21s 2ms/step - loss: 9709561.2176 - acc: 5.1211e-04\n",
            "Epoch 2/50\n",
            "10249/10249 [==============================] - 5s 447us/step - loss: 9567891.9525 - acc: 4.2912e-05\n",
            "Epoch 3/50\n",
            "10249/10249 [==============================] - 5s 442us/step - loss: 9431308.4474 - acc: 1.5924e-05\n",
            "Epoch 4/50\n",
            "10249/10249 [==============================] - 5s 441us/step - loss: 9296986.4076 - acc: 1.1513e-05\n",
            "Epoch 5/50\n",
            "10249/10249 [==============================] - 5s 444us/step - loss: 9164358.2696 - acc: 3.6101e-06\n",
            "Epoch 6/50\n",
            "10249/10249 [==============================] - 5s 443us/step - loss: 9033407.1268 - acc: 3.6882e-06\n",
            "Epoch 7/50\n",
            "10249/10249 [==============================] - 5s 443us/step - loss: 8904052.5110 - acc: 3.6882e-06\n",
            "Epoch 8/50\n",
            "10249/10249 [==============================] - 5s 443us/step - loss: 8776108.2297 - acc: 3.0442e-06\n",
            "Epoch 9/50\n",
            "10249/10249 [==============================] - 5s 442us/step - loss: 8649507.5817 - acc: 2.7515e-06\n",
            "Epoch 10/50\n",
            "10249/10249 [==============================] - 5s 445us/step - loss: 8524147.7965 - acc: 1.3074e-06\n",
            "Epoch 11/50\n",
            "10249/10249 [==============================] - 5s 446us/step - loss: 8400250.8690 - acc: 1.8538e-06\n",
            "Epoch 12/50\n",
            "10249/10249 [==============================] - 5s 449us/step - loss: 8277623.9504 - acc: 1.4245e-06\n",
            "Epoch 13/50\n",
            "10249/10249 [==============================] - 5s 449us/step - loss: 8156179.8468 - acc: 1.9709e-06\n",
            "Epoch 14/50\n",
            "10249/10249 [==============================] - 5s 450us/step - loss: 8035938.8718 - acc: 7.8056e-07\n",
            "Epoch 15/50\n",
            "10249/10249 [==============================] - 5s 456us/step - loss: 7916866.2473 - acc: 6.0494e-07\n",
            "Epoch 16/50\n",
            "10249/10249 [==============================] - 5s 455us/step - loss: 7798952.5491 - acc: 9.3668e-07\n",
            "Epoch 17/50\n",
            "10249/10249 [==============================] - 5s 450us/step - loss: 7682217.6352 - acc: 6.8299e-07\n",
            "Epoch 18/50\n",
            "10249/10249 [==============================] - 5s 452us/step - loss: 7566725.0445 - acc: 1.0538e-06\n",
            "Epoch 19/50\n",
            "10249/10249 [==============================] - 5s 454us/step - loss: 7452108.6513 - acc: 5.8542e-07\n",
            "Epoch 20/50\n",
            "10249/10249 [==============================] - 5s 452us/step - loss: 7338770.4008 - acc: 9.1716e-07\n",
            "Epoch 21/50\n",
            "10249/10249 [==============================] - 5s 453us/step - loss: 7226370.4144 - acc: 3.9028e-07\n",
            "Epoch 22/50\n",
            "10249/10249 [==============================] - 5s 456us/step - loss: 7115078.2079 - acc: 4.0980e-07\n",
            "Epoch 23/50\n",
            "10249/10249 [==============================] - 5s 456us/step - loss: 7004997.3398 - acc: 7.2202e-07\n",
            "Epoch 24/50\n",
            "10249/10249 [==============================] - 5s 454us/step - loss: 6895784.4160 - acc: 4.6834e-07\n",
            "Epoch 25/50\n",
            "10249/10249 [==============================] - 5s 458us/step - loss: 6787910.9045 - acc: 8.9765e-07\n",
            "Epoch 26/50\n",
            "10249/10249 [==============================] - 5s 459us/step - loss: 6680796.3559 - acc: 2.7320e-07\n",
            "Epoch 27/50\n",
            "10249/10249 [==============================] - 5s 461us/step - loss: 6574620.3273 - acc: 3.1223e-07\n",
            "Epoch 28/50\n",
            "10249/10249 [==============================] - 5s 466us/step - loss: 6469748.9325 - acc: 3.3174e-07\n",
            "Epoch 29/50\n",
            "10249/10249 [==============================] - 5s 466us/step - loss: 6365614.3257 - acc: 3.7077e-07\n",
            "Epoch 30/50\n",
            "10249/10249 [==============================] - 5s 466us/step - loss: 6262827.1886 - acc: 3.9028e-07\n",
            "Epoch 31/50\n",
            "10249/10249 [==============================] - 5s 467us/step - loss: 6160606.8714 - acc: 2.5368e-07\n",
            "Epoch 32/50\n",
            "10249/10249 [==============================] - 5s 465us/step - loss: 6059648.6961 - acc: 3.3174e-07\n",
            "Epoch 33/50\n",
            "10249/10249 [==============================] - 5s 465us/step - loss: 5959831.0253 - acc: 5.4639e-07\n",
            "Epoch 34/50\n",
            "10249/10249 [==============================] - 5s 465us/step - loss: 5860758.3835 - acc: 3.1223e-07\n",
            "Epoch 35/50\n",
            "10249/10249 [==============================] - 5s 464us/step - loss: 5762751.8002 - acc: 3.5125e-07\n",
            "Epoch 36/50\n",
            "10249/10249 [==============================] - 5s 468us/step - loss: 5665856.4585 - acc: 3.9028e-07\n",
            "Epoch 37/50\n",
            "10249/10249 [==============================] - 5s 473us/step - loss: 5569580.6762 - acc: 2.5368e-07\n",
            "Epoch 38/50\n",
            "10249/10249 [==============================] - 5s 473us/step - loss: 5474412.0247 - acc: 3.3174e-07\n",
            "Epoch 39/50\n",
            "10249/10249 [==============================] - 5s 464us/step - loss: 5380436.8787 - acc: 3.7077e-07\n",
            "Epoch 40/50\n",
            "10249/10249 [==============================] - 5s 466us/step - loss: 5287275.7904 - acc: 1.9514e-07\n",
            "Epoch 41/50\n",
            "10249/10249 [==============================] - 5s 468us/step - loss: 5195025.8373 - acc: 2.1466e-07\n",
            "Epoch 42/50\n",
            "10249/10249 [==============================] - 5s 464us/step - loss: 5103978.5892 - acc: 2.3417e-07\n",
            "Epoch 43/50\n",
            "10249/10249 [==============================] - 5s 466us/step - loss: 5013861.1727 - acc: 4.4882e-07\n",
            "Epoch 44/50\n",
            "10249/10249 [==============================] - 5s 466us/step - loss: 4924448.0355 - acc: 1.7563e-07\n",
            "Epoch 45/50\n",
            "10249/10249 [==============================] - 5s 461us/step - loss: 4836384.4354 - acc: 5.0737e-07\n",
            "Epoch 46/50\n",
            "10249/10249 [==============================] - 5s 464us/step - loss: 4748718.9810 - acc: 1.1708e-07\n",
            "Epoch 47/50\n",
            "10249/10249 [==============================] - 5s 462us/step - loss: 4662476.1661 - acc: 1.5611e-07\n",
            "Epoch 48/50\n",
            "10249/10249 [==============================] - 5s 463us/step - loss: 4576984.2504 - acc: 2.1466e-07\n",
            "Epoch 49/50\n",
            "10249/10249 [==============================] - 5s 462us/step - loss: 4492380.8743 - acc: 1.7563e-07\n",
            "Epoch 50/50\n",
            "10249/10249 [==============================] - 5s 463us/step - loss: 4408912.7185 - acc: 3.1223e-07\n",
            "130.0431152285399\n"
          ],
          "name": "stdout"
        }
      ]
    },
    {
      "cell_type": "code",
      "metadata": {
        "id": "vl_fSjufjcGY",
        "colab_type": "code",
        "outputId": "9f214850-7454-4c7a-bc50-78b9fc1c4aba",
        "colab": {
          "base_uri": "https://localhost:8080/",
          "height": 34
        }
      },
      "source": [
        "print(len(history.history['loss']))"
      ],
      "execution_count": 23,
      "outputs": [
        {
          "output_type": "stream",
          "text": [
            "50\n"
          ],
          "name": "stdout"
        }
      ]
    },
    {
      "cell_type": "code",
      "metadata": {
        "id": "Depsf3-WuktM",
        "colab_type": "code",
        "outputId": "dc82e51d-7bdf-4dea-fc34-129c0f920312",
        "colab": {
          "base_uri": "https://localhost:8080/",
          "height": 34
        }
      },
      "source": [
        "print(model.predict(X).shape)"
      ],
      "execution_count": 24,
      "outputs": [
        {
          "output_type": "stream",
          "text": [
            "(10249, 200, 5, 5, 1)\n"
          ],
          "name": "stdout"
        }
      ]
    },
    {
      "cell_type": "code",
      "metadata": {
        "id": "auKfudB6dNnh",
        "colab_type": "code",
        "colab": {}
      },
      "source": [
        ""
      ],
      "execution_count": 0,
      "outputs": []
    }
  ]
}