{
  "nbformat": 4,
  "nbformat_minor": 0,
  "metadata": {
    "accelerator": "GPU",
    "colab": {
      "name": "University Pavia : msd modified.ipynb",
      "provenance": [],
      "collapsed_sections": [],
      "machine_shape": "hm",
      "include_colab_link": true
    },
    "kernelspec": {
      "display_name": "Python 3",
      "language": "python",
      "name": "python3"
    },
    "language_info": {
      "codemirror_mode": {
        "name": "ipython",
        "version": 3
      },
      "file_extension": ".py",
      "mimetype": "text/x-python",
      "name": "python",
      "nbconvert_exporter": "python",
      "pygments_lexer": "ipython3",
      "version": "3.7.4"
    }
  },
  "cells": [
    {
      "cell_type": "markdown",
      "metadata": {
        "id": "view-in-github",
        "colab_type": "text"
      },
      "source": [
        "<a href=\"https://colab.research.google.com/github/ucalyptus/BS-Nets-Implementation-Pytorch/blob/dual-attention/University_Pavia_msd_modified.ipynb\" target=\"_parent\"><img src=\"https://colab.research.google.com/assets/colab-badge.svg\" alt=\"Open In Colab\"/></a>"
      ]
    },
    {
      "cell_type": "code",
      "metadata": {
        "colab_type": "code",
        "id": "i-WGRlA3KyxB",
        "colab": {}
      },
      "source": [
        "import keras\n",
        "from keras import regularizers\n",
        "from keras.layers import Conv2D, Conv3D, Flatten, Dense, Reshape, BatchNormalization, ReLU, PReLU, MaxPool3D, Conv3DTranspose\n",
        "from keras.layers import Dropout, Input, GlobalAveragePooling2D, multiply, add, Activation, Permute, merge\n",
        "from keras.models import Model, Sequential\n",
        "from keras.optimizers import Adam\n",
        "from keras.callbacks import ModelCheckpoint\n",
        "from keras.utils import np_utils\n",
        "from keras.regularizers import l2\n",
        "from keras import backend as K\n",
        "import tensorflow as tf\n",
        "from keras.layers import Layer\n",
        "from scipy.stats import entropy\n",
        "from sklearn.decomposition import PCA\n",
        "from sklearn.model_selection import train_test_split\n",
        "from sklearn.metrics import confusion_matrix, accuracy_score, classification_report, cohen_kappa_score\n",
        "\n",
        "from operator import truediv\n",
        "\n",
        "# from plotly.offline import init_notebook_mode\n",
        "import numpy as np\n",
        "import matplotlib.pyplot as plt\n",
        "import scipy.io as sio\n",
        "import os\n",
        "# import spectral\n",
        "\n",
        "# init_notebook_mode(connected=True)\n",
        "%matplotlib inline\n",
        "# %tensorflow_version 1.x"
      ],
      "execution_count": 0,
      "outputs": []
    },
    {
      "cell_type": "code",
      "metadata": {
        "colab_type": "code",
        "id": "D7_l6NRBKyxH",
        "outputId": "161ca2c4-a4fc-451d-b87c-6e3c4ede4ba6",
        "colab": {
          "base_uri": "https://localhost:8080/",
          "height": 52
        }
      },
      "source": [
        "!pip install -U spectral\n",
        "if not (os.path.isfile('/content/PaviaU.mat')):\n",
        "  !wget http://www.ehu.eus/ccwintco/uploads/e/ee/PaviaU.mat\n",
        "if not (os.path.isfile('/content/PaviaU_gt.mat')):\n",
        "  !wget http://www.ehu.eus/ccwintco/uploads/5/50/PaviaU_gt.mat"
      ],
      "execution_count": 12,
      "outputs": [
        {
          "output_type": "stream",
          "text": [
            "Requirement already up-to-date: spectral in /usr/local/lib/python3.6/dist-packages (0.20)\n",
            "Requirement already satisfied, skipping upgrade: numpy in /usr/local/lib/python3.6/dist-packages (from spectral) (1.17.5)\n"
          ],
          "name": "stdout"
        }
      ]
    },
    {
      "cell_type": "code",
      "metadata": {
        "colab_type": "code",
        "id": "ayKszFCcKyxJ",
        "colab": {}
      },
      "source": [
        "def loadData():\n",
        "    \n",
        "    data = sio.loadmat('PaviaU.mat')['paviaU']\n",
        "    labels = sio.loadmat('PaviaU_gt.mat')['paviaU_gt']\n",
        "    \n",
        "    return data, labels"
      ],
      "execution_count": 0,
      "outputs": []
    },
    {
      "cell_type": "code",
      "metadata": {
        "colab_type": "code",
        "id": "Zyw923t1KyxM",
        "colab": {}
      },
      "source": [
        "def padWithZeros(X, margin=2):\n",
        "    newX = np.zeros((X.shape[0] + 2 * margin, X.shape[1] + 2* margin, X.shape[2]))\n",
        "    x_offset = margin\n",
        "    y_offset = margin\n",
        "    newX[x_offset:X.shape[0] + x_offset, y_offset:X.shape[1] + y_offset, :] = X\n",
        "    return newX"
      ],
      "execution_count": 0,
      "outputs": []
    },
    {
      "cell_type": "code",
      "metadata": {
        "colab_type": "code",
        "id": "j-pUBs9hKyxO",
        "colab": {}
      },
      "source": [
        "def createImageCubes(X, y, windowSize=5, removeZeroLabels = True):\n",
        "    margin = int((windowSize - 1) / 2)\n",
        "    zeroPaddedX = padWithZeros(X, margin=margin)\n",
        "    # split patches\n",
        "    patchesData = np.zeros((X.shape[0] * X.shape[1], windowSize, windowSize, X.shape[2]))\n",
        "    patchesLabels = np.zeros((X.shape[0] * X.shape[1]))\n",
        "    patchIndex = 0\n",
        "    for r in range(margin, zeroPaddedX.shape[0] - margin):\n",
        "        for c in range(margin, zeroPaddedX.shape[1] - margin):\n",
        "            patch = zeroPaddedX[r - margin:r + margin + 1, c - margin:c + margin + 1]   \n",
        "            patchesData[patchIndex, :, :, :] = patch\n",
        "            patchesLabels[patchIndex] = y[r-margin, c-margin]\n",
        "            patchIndex = patchIndex + 1\n",
        "    if removeZeroLabels:\n",
        "        patchesData = patchesData[patchesLabels>0,:,:,:]\n",
        "        patchesLabels = patchesLabels[patchesLabels>0]\n",
        "        patchesLabels -= 1\n",
        "    return patchesData, patchesLabels"
      ],
      "execution_count": 0,
      "outputs": []
    },
    {
      "cell_type": "code",
      "metadata": {
        "colab_type": "code",
        "id": "0qgTzXVKKyxQ",
        "colab": {}
      },
      "source": [
        "X, y = loadData()"
      ],
      "execution_count": 0,
      "outputs": []
    },
    {
      "cell_type": "code",
      "metadata": {
        "colab_type": "code",
        "id": "8Fdu_Qsz7MZN",
        "outputId": "3d9f4b12-7b46-4458-f281-402bbdb85a13",
        "colab": {
          "base_uri": "https://localhost:8080/",
          "height": 52
        }
      },
      "source": [
        "print(X.shape)\n",
        "print(y.shape)"
      ],
      "execution_count": 17,
      "outputs": [
        {
          "output_type": "stream",
          "text": [
            "(610, 340, 103)\n",
            "(610, 340)\n"
          ],
          "name": "stdout"
        }
      ]
    },
    {
      "cell_type": "code",
      "metadata": {
        "colab_type": "code",
        "id": "wPbCGwgrKyxT",
        "outputId": "f1a2f0d9-2c0f-44f3-a7ea-a73ed6cfaa2c",
        "colab": {
          "base_uri": "https://localhost:8080/",
          "height": 34
        }
      },
      "source": [
        "X, y = createImageCubes(X, y, 5)\n",
        "\n",
        "X.shape, y.shape"
      ],
      "execution_count": 18,
      "outputs": [
        {
          "output_type": "execute_result",
          "data": {
            "text/plain": [
              "((42776, 5, 5, 103), (42776,))"
            ]
          },
          "metadata": {
            "tags": []
          },
          "execution_count": 18
        }
      ]
    },
    {
      "cell_type": "markdown",
      "metadata": {
        "colab_type": "text",
        "id": "CmInivJsKyxW"
      },
      "source": [
        "# Model and Training"
      ]
    },
    {
      "cell_type": "code",
      "metadata": {
        "id": "XyQgKvk1rLOb",
        "colab_type": "code",
        "colab": {
          "base_uri": "https://localhost:8080/",
          "height": 609
        },
        "outputId": "19c14b3a-aef5-485a-9ca7-08bad1729c25"
      },
      "source": [
        "X = X.reshape(-1,5,5,103)\n",
        "ENTROPY = np.zeros([42776,103])\n",
        "for b in range(0,42776):  \n",
        "  band_subset = X[b,:,:,:]\n",
        "  n_row,n_column,n_band= band_subset.shape\n",
        "  N = n_row * n_column\n",
        "  hist = []\n",
        "  for i in range(n_band):\n",
        "    hist_, _ = np.histogram(band_subset[:, :, i], 256)\n",
        "    hist.append(hist_ / N)\n",
        "    band_i = hist[i].reshape(-1)/np.sum(hist[i])\n",
        "    entr_i = entropy(band_i)\n",
        "    ENTROPY[b][i] += entr_i  ## the entropy of one band of one batch\n",
        "  hist = np.asarray(hist)\n",
        "  hist[np.nonzero(hist <= 0)] = 1e-1\n",
        "\n",
        "fig = plt.figure(figsize=(40,10))\n",
        "ax1 = fig.add_subplot(121)\n",
        "ax1.plot(np.average(ENTROPY,axis =0))"
      ],
      "execution_count": 34,
      "outputs": [
        {
          "output_type": "execute_result",
          "data": {
            "text/plain": [
              "[<matplotlib.lines.Line2D at 0x7f8eb3891358>]"
            ]
          },
          "metadata": {
            "tags": []
          },
          "execution_count": 34
        },
        {
          "output_type": "display_data",
          "data": {
            "image/png": "[encoded data removed]",
            "text/plain": [
              "<Figure size 2880x720 with 1 Axes>"
            ]
          },
          "metadata": {
            "tags": []
          }
        }
      ]
    },
    {
      "cell_type": "code",
      "metadata": {
        "colab_type": "code",
        "id": "uMnbZ0zj5hdJ",
        "colab": {}
      },
      "source": [
        "def BAM():\n",
        "    model = Sequential()\n",
        "    model.add(Conv2D(filters=64,\n",
        "                     input_shape=(5, 5, 103),\n",
        "                     kernel_size=(3,3),\n",
        "                     strides=1,\n",
        "                     padding='valid', name=\"Conv1\"))\n",
        "    model.add(ReLU(name=\"ReLU1\"))\n",
        "    model.add(GlobalAveragePooling2D(data_format=\"channels_first\"))\n",
        "    \n",
        "    model.add(Dense(128))\n",
        "    model.add(ReLU(name=\"ReLU2\"))\n",
        "    model.add(Dense(103, activation=\"sigmoid\"))\n",
        "  \n",
        "    return model"
      ],
      "execution_count": 0,
      "outputs": []
    },
    {
      "cell_type": "code",
      "metadata": {
        "colab_type": "code",
        "id": "dvQBnOxVKyxZ",
        "colab": {}
      },
      "source": [
        "def DCAE(weight_decay=0.0005):\n",
        "    model = Sequential()\n",
        "    model.add(Conv3D(filters=24,\n",
        "                     input_shape=(103, 5, 5, 1),\n",
        "                     kernel_size=(24, 3, 3),\n",
        "                     strides=(1, 1, 1),\n",
        "                     kernel_regularizer=regularizers.l2(l=weight_decay),\n",
        "                     padding='valid', name=\"Conv1\"))  \n",
        "    model.add(BatchNormalization(name=\"BN1\"))\n",
        "    model.add(PReLU(name=\"PReLU1\"))\n",
        "\n",
        "    model.add(Conv3D(filters=48,\n",
        "                     kernel_size=(24, 3, 3),  \n",
        "                     strides=(1, 1, 1),\n",
        "                     kernel_regularizer=regularizers.l2(l=weight_decay),\n",
        "                     padding='valid', name=\"Conv2\"))  \n",
        "    model.add(BatchNormalization(name=\"BN2\"))\n",
        "    model.add(PReLU(name=\"PReLU2\"))\n",
        "\n",
        "    model.add(MaxPool3D(pool_size=(18, 1, 1),\n",
        "                        strides=(18, 1, 1), name=\"Pool1\"))\n",
        "\n",
        "    model.add(Conv3DTranspose(filters=24,\n",
        "                              kernel_size=(32, 3, 3), #(9,3,3),\n",
        "                              kernel_regularizer=regularizers.l2(\n",
        "                                  l=weight_decay),\n",
        "                              strides=(22, 1, 1), name=\"Deconv1\", padding='valid'))\n",
        "    model.add(BatchNormalization(name=\"BN3\"))\n",
        "    model.add(PReLU(name=\"PReLU3\"))\n",
        "    model.add(Conv3DTranspose(filters=1,\n",
        "                              kernel_size=(28, 3, 3),\n",
        "                              kernel_regularizer=regularizers.l2(\n",
        "                                  l=weight_decay),\n",
        "                              strides=(1, 1, 1), name=\"Deconv2\", padding='valid'))\n",
        "    model.add(BatchNormalization(name=\"BN4\"))\n",
        "    \n",
        "    return model"
      ],
      "execution_count": 0,
      "outputs": []
    },
    {
      "cell_type": "code",
      "metadata": {
        "colab_type": "code",
        "id": "fPtnuhhpDAC8",
        "colab": {}
      },
      "source": [
        "def Ensemble():\n",
        "    input_layer = Input((5, 5, 103))\n",
        "    band_activations = BAM()(input_layer)\n",
        "    # band_activations = Reshape((200, 1, 1))(band_activations)\n",
        "    \n",
        "    bam_output = multiply([band_activations, input_layer])\n",
        "    \n",
        "    bam_output = Reshape((103, 5, 5, 1))(bam_output)\n",
        "    # da_output = DA()(input_layer)\n",
        "    # da_output = Permute((3,1,2), input_shape=(11,11,200))(da_output)\n",
        "    # da_output = Reshape((200, 11, 11, 1))(da_output)\n",
        "    output = DCAE()(bam_output)\n",
        "    \n",
        "    \n",
        "    return Model(inputs=input_layer, outputs=output)\n",
        "    "
      ],
      "execution_count": 0,
      "outputs": []
    },
    {
      "cell_type": "code",
      "metadata": {
        "colab_type": "code",
        "id": "CdiDxfoAKyxb",
        "outputId": "e20bf668-71db-4f01-efcc-4ad6c00ce394",
        "colab": {
          "base_uri": "https://localhost:8080/",
          "height": 506
        }
      },
      "source": [
        "# model = DCAE(weight_decay=0.0005)\n",
        "model = Ensemble()\n",
        "model.summary()"
      ],
      "execution_count": 23,
      "outputs": [
        {
          "output_type": "stream",
          "text": [
            "WARNING:tensorflow:From /usr/local/lib/python3.6/dist-packages/keras/backend/tensorflow_backend.py:66: The name tf.get_default_graph is deprecated. Please use tf.compat.v1.get_default_graph instead.\n",
            "\n",
            "WARNING:tensorflow:From /usr/local/lib/python3.6/dist-packages/keras/backend/tensorflow_backend.py:541: The name tf.placeholder is deprecated. Please use tf.compat.v1.placeholder instead.\n",
            "\n",
            "WARNING:tensorflow:From /usr/local/lib/python3.6/dist-packages/keras/backend/tensorflow_backend.py:4432: The name tf.random_uniform is deprecated. Please use tf.random.uniform instead.\n",
            "\n",
            "WARNING:tensorflow:From /usr/local/lib/python3.6/dist-packages/keras/backend/tensorflow_backend.py:148: The name tf.placeholder_with_default is deprecated. Please use tf.compat.v1.placeholder_with_default instead.\n",
            "\n",
            "Model: \"model_1\"\n",
            "__________________________________________________________________________________________________\n",
            "Layer (type)                    Output Shape         Param #     Connected to                     \n",
            "==================================================================================================\n",
            "input_1 (InputLayer)            (None, 5, 5, 103)    0                                            \n",
            "__________________________________________________________________________________________________\n",
            "sequential_1 (Sequential)       (None, 103)          73191       input_1[0][0]                    \n",
            "__________________________________________________________________________________________________\n",
            "multiply_1 (Multiply)           (None, 5, 5, 103)    0           sequential_1[1][0]               \n",
            "                                                                 input_1[0][0]                    \n",
            "__________________________________________________________________________________________________\n",
            "reshape_1 (Reshape)             (None, 103, 5, 5, 1) 0           multiply_1[0][0]                 \n",
            "__________________________________________________________________________________________________\n",
            "sequential_2 (Sequential)       (None, 103, 5, 5, 1) 628757      reshape_1[0][0]                  \n",
            "==================================================================================================\n",
            "Total params: 701,948\n",
            "Trainable params: 701,754\n",
            "Non-trainable params: 194\n",
            "__________________________________________________________________________________________________\n"
          ],
          "name": "stdout"
        }
      ]
    },
    {
      "cell_type": "code",
      "metadata": {
        "id": "9ftwpP0UroEZ",
        "colab_type": "code",
        "colab": {}
      },
      "source": [
        "def MeanSpectralDivergence(band_subset):\n",
        "\n",
        "  n_row, n_column, n_band = band_subset.shape\n",
        "  N = n_row * n_column\n",
        "  hist = []\n",
        "  for i in range(n_band):\n",
        "    hist_, _ = np.histogram(band_subset[:, :, i], 256)\n",
        "    hist.append(hist_ / N)\n",
        "  hist = np.asarray(hist)\n",
        "  hist[np.nonzero(hist <= 0)] = 1e-20\n",
        "    # entropy_lst = entropy(hist.transpose())\n",
        "  info_div = 0\n",
        "    # band_subset[np.nonzero(band_subset <= 0)] = 1e-20\n",
        "  for b_i in range(n_band):\n",
        "    for b_j in range(n_band):\n",
        "      band_i = hist[b_i].reshape(-1)/np.sum(hist[b_i])\n",
        "      band_j = hist[b_j].reshape(-1)/np.sum(hist[b_j])\n",
        "      entr_ij = entropy(band_i, band_j)\n",
        "      entr_ji = entropy(band_j, band_i)\n",
        "      entr_sum = entr_ij + entr_ji\n",
        "      info_div += entr_sum\n",
        "  msd = info_div * 2 / (n_band * (n_band - 1))\n",
        "  return msd\n",
        "def MSD2(x_predict,topbandindices):\n",
        "  ##create band_subset\n",
        "  x_predict = x_predict.reshape(42776,103,5,5)\n",
        "  #print(x_predict.shape)                                        ## 42776,103,5,5\n",
        "  band_subset_list = []\n",
        "  for i in range(0,len(topbandindices)):\n",
        "    band_subset_list.append(x_predict[:,i,:,:])     \n",
        "  band_subset = np.array(band_subset_list)    \n",
        "  #print(band_subset.shape)                                      ## band_subset.shape = ## 15,42776,5,5\n",
        "  band_subset = np.stack(band_subset,axis = 1)     \n",
        "  #print(band_subset.shape)                                      ## required shape is [42776,15,5,5] \n",
        "  band_subset = band_subset.reshape(42776,5,5,-1)\n",
        "  #print(band_subset.shape)                \n",
        "  xx = []\n",
        "  for k in range(0,42776):\n",
        "    xx.append(MeanSpectralDivergence(band_subset[k,:,:,:]))   \n",
        "                                                                ## then reshape to [42776,5,5,15] \n",
        "  print(np.average(np.array(xx)))\n"
      ],
      "execution_count": 0,
      "outputs": []
    },
    {
      "cell_type": "code",
      "metadata": {
        "colab_type": "code",
        "id": "-Lt3ejW8OkA3",
        "colab": {}
      },
      "source": [
        "ENTROPY = np.zeros(103)\n",
        "import skimage.measure\n",
        "def topkbands(x_predict, topk):\n",
        "  for i in range(0,len(ENTROPY)):\n",
        "    ENTROPY[i]+=entropy(np.unique(x_predict[:,i,:,:],return_counts=True)[1],base=2)\n",
        "  \n",
        "  \n",
        "  return ENTROPY.argsort()[-topk:][::-1]"
      ],
      "execution_count": 0,
      "outputs": []
    },
    {
      "cell_type": "code",
      "metadata": {
        "colab_type": "code",
        "id": "2x0UcifSKyxj",
        "colab": {}
      },
      "source": [
        "from keras.callbacks import Callback\n",
        "from sklearn.metrics import mean_squared_error\n",
        "import math\n",
        "\n",
        "class MyLogger(Callback):\n",
        "    def on_train_end(self,logs=None):\n",
        "      x_predict = model.predict(X)\n",
        "      bandlist = topkbands(x_predict, 15)\n",
        "      with open('BANDLIST.txt', 'w') as filehandle:\n",
        "        for banditem in bandlist:\n",
        "          filehandle.write('%s\\n' % banditem)  ## Manually download BANDLIST.txt from colab.\n",
        "      MSD2(x_predict, bandlist)"
      ],
      "execution_count": 0,
      "outputs": []
    },
    {
      "cell_type": "code",
      "metadata": {
        "colab_type": "code",
        "id": "bJYuFFA6Kyxl",
        "outputId": "abc2a19d-f73c-4ddb-c8c0-078d46334e6a",
        "colab": {
          "base_uri": "https://localhost:8080/",
          "height": 1000
        }
      },
      "source": [
        "model.compile(loss=keras.losses.mse, optimizer=keras.optimizers.Adam(lr=0.1))\n",
        "\n",
        "n_epoch = 50\n",
        "\n",
        "model.fit(X, X.reshape(-1, 103, 5, 5, 1), epochs=n_epoch, shuffle=True, verbose=1, batch_size=256, callbacks=[MyLogger()])"
      ],
      "execution_count": 32,
      "outputs": [
        {
          "output_type": "stream",
          "text": [
            "Epoch 1/50\n",
            "42776/42776 [==============================] - 8s 198us/step - loss: 7409.5062\n",
            "Epoch 2/50\n",
            "42776/42776 [==============================] - 7s 162us/step - loss: 5067.2307\n",
            "Epoch 3/50\n",
            "42776/42776 [==============================] - 7s 162us/step - loss: 4746.2936\n",
            "Epoch 4/50\n",
            "42776/42776 [==============================] - 7s 163us/step - loss: 4705.4500\n",
            "Epoch 5/50\n",
            "42776/42776 [==============================] - 7s 163us/step - loss: 4836.5524\n",
            "Epoch 6/50\n",
            "42776/42776 [==============================] - 7s 163us/step - loss: 4663.8184\n",
            "Epoch 7/50\n",
            "42776/42776 [==============================] - 7s 163us/step - loss: 5089.9840\n",
            "Epoch 8/50\n",
            "42776/42776 [==============================] - 7s 163us/step - loss: 4918.3206\n",
            "Epoch 9/50\n",
            "42776/42776 [==============================] - 7s 163us/step - loss: 5022.4874\n",
            "Epoch 10/50\n",
            "42776/42776 [==============================] - 7s 164us/step - loss: 4642.1993\n",
            "Epoch 11/50\n",
            "42776/42776 [==============================] - 7s 162us/step - loss: 4803.5030\n",
            "Epoch 12/50\n",
            "42776/42776 [==============================] - 7s 162us/step - loss: 4866.2088\n",
            "Epoch 13/50\n",
            "42776/42776 [==============================] - 7s 163us/step - loss: 4719.9017\n",
            "Epoch 14/50\n",
            "42776/42776 [==============================] - 7s 163us/step - loss: 4509.9953\n",
            "Epoch 15/50\n",
            "42776/42776 [==============================] - 7s 163us/step - loss: 5088.1683\n",
            "Epoch 16/50\n",
            "42776/42776 [==============================] - 7s 163us/step - loss: 4820.5057\n",
            "Epoch 17/50\n",
            "42776/42776 [==============================] - 7s 163us/step - loss: 4875.9770\n",
            "Epoch 18/50\n",
            "42776/42776 [==============================] - 7s 163us/step - loss: 4550.4533\n",
            "Epoch 19/50\n",
            "42776/42776 [==============================] - 7s 163us/step - loss: 4679.4389\n",
            "Epoch 20/50\n",
            "42776/42776 [==============================] - 7s 162us/step - loss: 4985.8732\n",
            "Epoch 21/50\n",
            "42776/42776 [==============================] - 7s 162us/step - loss: 4828.8487\n",
            "Epoch 22/50\n",
            "42776/42776 [==============================] - 7s 162us/step - loss: 4918.4737\n",
            "Epoch 23/50\n",
            "42776/42776 [==============================] - 7s 165us/step - loss: 4801.2049\n",
            "Epoch 24/50\n",
            "42776/42776 [==============================] - 7s 162us/step - loss: 4553.3708\n",
            "Epoch 25/50\n",
            "42776/42776 [==============================] - 7s 162us/step - loss: 4728.9364\n",
            "Epoch 26/50\n",
            "42776/42776 [==============================] - 7s 161us/step - loss: 4666.5514\n",
            "Epoch 27/50\n",
            "42776/42776 [==============================] - 7s 163us/step - loss: 4781.0189\n",
            "Epoch 28/50\n",
            "42776/42776 [==============================] - 7s 161us/step - loss: 4742.5586\n",
            "Epoch 29/50\n",
            "42776/42776 [==============================] - 7s 161us/step - loss: 4970.5930\n",
            "Epoch 30/50\n",
            "42776/42776 [==============================] - 7s 161us/step - loss: 4737.1395\n",
            "Epoch 31/50\n",
            "42776/42776 [==============================] - 7s 162us/step - loss: 4779.2806\n",
            "Epoch 32/50\n",
            "42776/42776 [==============================] - 7s 162us/step - loss: 4700.7316\n",
            "Epoch 33/50\n",
            "42776/42776 [==============================] - 7s 162us/step - loss: 4639.9210\n",
            "Epoch 34/50\n",
            "42776/42776 [==============================] - 7s 162us/step - loss: 4806.7328\n",
            "Epoch 35/50\n",
            "42776/42776 [==============================] - 7s 161us/step - loss: 4667.0289\n",
            "Epoch 36/50\n",
            "42776/42776 [==============================] - 7s 163us/step - loss: 4635.1564\n",
            "Epoch 37/50\n",
            "42776/42776 [==============================] - 7s 161us/step - loss: 4901.3629\n",
            "Epoch 38/50\n",
            "42776/42776 [==============================] - 7s 162us/step - loss: 4679.0095\n",
            "Epoch 39/50\n",
            "42776/42776 [==============================] - 7s 161us/step - loss: 4898.2352\n",
            "Epoch 40/50\n",
            "42776/42776 [==============================] - 7s 164us/step - loss: 4570.5803\n",
            "Epoch 41/50\n",
            "42776/42776 [==============================] - 7s 164us/step - loss: 4427.8792\n",
            "Epoch 42/50\n",
            "42776/42776 [==============================] - 7s 161us/step - loss: 4775.9462\n",
            "Epoch 43/50\n",
            "42776/42776 [==============================] - 7s 162us/step - loss: 4844.3849\n",
            "Epoch 44/50\n",
            "42776/42776 [==============================] - 7s 162us/step - loss: 4943.6552\n",
            "Epoch 45/50\n",
            "42776/42776 [==============================] - 7s 163us/step - loss: 4521.8306\n",
            "Epoch 46/50\n",
            "42776/42776 [==============================] - 7s 161us/step - loss: 4779.8923\n",
            "Epoch 47/50\n",
            "42776/42776 [==============================] - 7s 162us/step - loss: 4937.5975\n",
            "Epoch 48/50\n",
            "42776/42776 [==============================] - 7s 161us/step - loss: 4599.3183\n",
            "Epoch 49/50\n",
            "42776/42776 [==============================] - 7s 162us/step - loss: 4656.9379\n",
            "Epoch 50/50\n",
            "42776/42776 [==============================] - 7s 162us/step - loss: 4512.7814\n",
            "127.06968786607939\n"
          ],
          "name": "stdout"
        },
        {
          "output_type": "execute_result",
          "data": {
            "text/plain": [
              "<keras.callbacks.History at 0x7f8f5a717fd0>"
            ]
          },
          "metadata": {
            "tags": []
          },
          "execution_count": 32
        }
      ]
    },
    {
      "cell_type": "code",
      "metadata": {
        "id": "nIqFic1ujcNh",
        "colab_type": "code",
        "colab": {}
      },
      "source": [
        ""
      ],
      "execution_count": 0,
      "outputs": []
    },
    {
      "cell_type": "code",
      "metadata": {
        "id": "vAyIANVQjcK8",
        "colab_type": "code",
        "colab": {}
      },
      "source": [
        ""
      ],
      "execution_count": 0,
      "outputs": []
    }
  ]
}