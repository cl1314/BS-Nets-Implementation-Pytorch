{
  "nbformat": 4,
  "nbformat_minor": 0,
  "metadata": {
    "accelerator": "GPU",
    "colab": {
      "name": "Indian Pines : BSDA_RecNet.ipynb",
      "provenance": [],
      "collapsed_sections": [],
      "include_colab_link": true
    },
    "kernelspec": {
      "display_name": "Python 3",
      "language": "python",
      "name": "python3"
    },
    "language_info": {
      "codemirror_mode": {
        "name": "ipython",
        "version": 3
      },
      "file_extension": ".py",
      "mimetype": "text/x-python",
      "name": "python",
      "nbconvert_exporter": "python",
      "pygments_lexer": "ipython3",
      "version": "3.7.4"
    }
  },
  "cells": [
    {
      "cell_type": "markdown",
      "metadata": {
        "id": "view-in-github",
        "colab_type": "text"
      },
      "source": [
        "<a href=\"https://colab.research.google.com/github/ucalyptus/BS-Nets-Implementation-Pytorch/blob/dual-attention/Indian_Pines_BSDA_RecNet.ipynb\" target=\"_parent\"><img src=\"https://colab.research.google.com/assets/colab-badge.svg\" alt=\"Open In Colab\"/></a>"
      ]
    },
    {
      "cell_type": "code",
      "metadata": {
        "colab_type": "code",
        "id": "i-WGRlA3KyxB",
        "outputId": "9006c655-be5b-4d97-e25d-bce09482b04b",
        "colab": {
          "base_uri": "https://localhost:8080/",
          "height": 81
        }
      },
      "source": [
        "import keras\n",
        "from keras import regularizers\n",
        "from keras.layers import Conv2D, Conv3D, Flatten, Dense, Reshape, BatchNormalization, ReLU, PReLU, MaxPool3D, Conv3DTranspose\n",
        "from keras.layers import Dropout, Input, GlobalAveragePooling2D, multiply, add, Activation, Permute, merge\n",
        "from keras.models import Model, Sequential\n",
        "from keras.optimizers import Adam\n",
        "from keras.callbacks import ModelCheckpoint\n",
        "from keras.utils import np_utils\n",
        "from keras.regularizers import l2\n",
        "from keras import backend as K\n",
        "import tensorflow as tf\n",
        "from keras.layers import Layer\n",
        "\n",
        "from sklearn.decomposition import PCA\n",
        "from sklearn.model_selection import train_test_split\n",
        "from sklearn.metrics import confusion_matrix, accuracy_score, classification_report, cohen_kappa_score\n",
        "\n",
        "from operator import truediv\n",
        "\n",
        "# from plotly.offline import init_notebook_mode\n",
        "import numpy as np\n",
        "import matplotlib.pyplot as plt\n",
        "import scipy.io as sio\n",
        "import os\n",
        "# import spectral\n",
        "\n",
        "# init_notebook_mode(connected=True)\n",
        "%matplotlib inline\n",
        "# %tensorflow_version 1.x"
      ],
      "execution_count": 0,
      "outputs": [
        {
          "output_type": "stream",
          "text": [
            "Using TensorFlow backend.\n"
          ],
          "name": "stderr"
        },
        {
          "output_type": "display_data",
          "data": {
            "text/html": [
              "<p style=\"color: red;\">\n",
              "The default version of TensorFlow in Colab will soon switch to TensorFlow 2.x.<br>\n",
              "We recommend you <a href=\"https://www.tensorflow.org/guide/migrate\" target=\"_blank\">upgrade</a> now \n",
              "or ensure your notebook will continue to use TensorFlow 1.x via the <code>%tensorflow_version 1.x</code> magic:\n",
              "<a href=\"https://colab.research.google.com/notebooks/tensorflow_version.ipynb\" target=\"_blank\">more info</a>.</p>\n"
            ],
            "text/plain": [
              "<IPython.core.display.HTML object>"
            ]
          },
          "metadata": {
            "tags": []
          }
        }
      ]
    },
    {
      "cell_type": "code",
      "metadata": {
        "colab_type": "code",
        "id": "D7_l6NRBKyxH",
        "outputId": "f194bbe4-3bf1-41fd-a0c8-64a25baef99e",
        "colab": {
          "base_uri": "https://localhost:8080/",
          "height": 610
        }
      },
      "source": [
        "!pip install -U spectral\n",
        "if not (os.path.isfile('/content/Indian_pines_corrected.mat')):\n",
        "  !wget http://www.ehu.eus/ccwintco/uploads/6/67/Indian_pines_corrected.mat\n",
        "if not (os.path.isfile('/content/Indian_pines_gt.mat')):\n",
        "  !wget http://www.ehu.eus/ccwintco/uploads/c/c4/Indian_pines_gt.mat"
      ],
      "execution_count": 0,
      "outputs": [
        {
          "output_type": "stream",
          "text": [
            "Collecting spectral\n",
            "\u001b[?25l  Downloading https://files.pythonhosted.org/packages/48/8e/db1d750fb0153027e4e945f91f04b72a3b8b9a0cfdc2c8a33bedcb27740d/spectral-0.20.tar.gz (143kB)\n",
            "\r\u001b[K     |██▎                             | 10kB 28.1MB/s eta 0:00:01\r\u001b[K     |████▋                           | 20kB 2.0MB/s eta 0:00:01\r\u001b[K     |██████▉                         | 30kB 2.9MB/s eta 0:00:01\r\u001b[K     |█████████▏                      | 40kB 2.0MB/s eta 0:00:01\r\u001b[K     |███████████▍                    | 51kB 2.3MB/s eta 0:00:01\r\u001b[K     |█████████████▊                  | 61kB 2.8MB/s eta 0:00:01\r\u001b[K     |████████████████                | 71kB 3.0MB/s eta 0:00:01\r\u001b[K     |██████████████████▎             | 81kB 3.2MB/s eta 0:00:01\r\u001b[K     |████████████████████▌           | 92kB 3.6MB/s eta 0:00:01\r\u001b[K     |██████████████████████▉         | 102kB 3.3MB/s eta 0:00:01\r\u001b[K     |█████████████████████████       | 112kB 3.3MB/s eta 0:00:01\r\u001b[K     |███████████████████████████▍    | 122kB 3.3MB/s eta 0:00:01\r\u001b[K     |█████████████████████████████▋  | 133kB 3.3MB/s eta 0:00:01\r\u001b[K     |████████████████████████████████| 143kB 3.3MB/s eta 0:00:01\r\u001b[K     |████████████████████████████████| 153kB 3.3MB/s \n",
            "\u001b[?25hRequirement already satisfied, skipping upgrade: numpy in /usr/local/lib/python3.6/dist-packages (from spectral) (1.17.5)\n",
            "Building wheels for collected packages: spectral\n",
            "  Building wheel for spectral (setup.py) ... \u001b[?25l\u001b[?25hdone\n",
            "  Created wheel for spectral: filename=spectral-0.20-cp36-none-any.whl size=183918 sha256=73067a0adbcad9632bb958fe845e06671a2d886521c7f51adf2e63a5d49d360b\n",
            "  Stored in directory: /root/.cache/pip/wheels/ad/cf/f3/3cab28f6aed46f15c8db09c6ad678483610426261025e61ff8\n",
            "Successfully built spectral\n",
            "Installing collected packages: spectral\n",
            "Successfully installed spectral-0.20\n",
            "--2020-01-26 20:20:33--  http://www.ehu.eus/ccwintco/uploads/6/67/Indian_pines_corrected.mat\n",
            "Resolving www.ehu.eus (www.ehu.eus)... 158.227.0.65, 2001:720:1410::65\n",
            "Connecting to www.ehu.eus (www.ehu.eus)|158.227.0.65|:80... connected.\n",
            "HTTP request sent, awaiting response... 200 OK\n",
            "Length: 5953527 (5.7M) [text/plain]\n",
            "Saving to: ‘Indian_pines_corrected.mat’\n",
            "\n",
            "Indian_pines_correc 100%[===================>]   5.68M   721KB/s    in 9.0s    \n",
            "\n",
            "2020-01-26 20:20:42 (648 KB/s) - ‘Indian_pines_corrected.mat’ saved [5953527/5953527]\n",
            "\n",
            "--2020-01-26 20:20:46--  http://www.ehu.eus/ccwintco/uploads/c/c4/Indian_pines_gt.mat\n",
            "Resolving www.ehu.eus (www.ehu.eus)... 158.227.0.65, 2001:720:1410::65\n",
            "Connecting to www.ehu.eus (www.ehu.eus)|158.227.0.65|:80... connected.\n",
            "HTTP request sent, awaiting response... 200 OK\n",
            "Length: 1125 (1.1K) [text/plain]\n",
            "Saving to: ‘Indian_pines_gt.mat’\n",
            "\n",
            "Indian_pines_gt.mat 100%[===================>]   1.10K  --.-KB/s    in 0s      \n",
            "\n",
            "2020-01-26 20:20:46 (296 MB/s) - ‘Indian_pines_gt.mat’ saved [1125/1125]\n",
            "\n"
          ],
          "name": "stdout"
        }
      ]
    },
    {
      "cell_type": "code",
      "metadata": {
        "colab_type": "code",
        "id": "ayKszFCcKyxJ",
        "colab": {}
      },
      "source": [
        "def loadData():\n",
        "    data = sio.loadmat('Indian_pines_corrected.mat')['indian_pines_corrected']\n",
        "    labels = sio.loadmat('Indian_pines_gt.mat')['indian_pines_gt']\n",
        "    \n",
        "    return data, labels"
      ],
      "execution_count": 0,
      "outputs": []
    },
    {
      "cell_type": "code",
      "metadata": {
        "colab_type": "code",
        "id": "Zyw923t1KyxM",
        "colab": {}
      },
      "source": [
        "def padWithZeros(X, margin=2):\n",
        "    newX = np.zeros((X.shape[0] + 2 * margin, X.shape[1] + 2* margin, X.shape[2]))\n",
        "    x_offset = margin\n",
        "    y_offset = margin\n",
        "    newX[x_offset:X.shape[0] + x_offset, y_offset:X.shape[1] + y_offset, :] = X\n",
        "    return newX"
      ],
      "execution_count": 0,
      "outputs": []
    },
    {
      "cell_type": "code",
      "metadata": {
        "colab_type": "code",
        "id": "j-pUBs9hKyxO",
        "colab": {}
      },
      "source": [
        "def createImageCubes(X, y, windowSize=5, removeZeroLabels = True):\n",
        "    margin = int((windowSize - 1) / 2)\n",
        "    zeroPaddedX = padWithZeros(X, margin=margin)\n",
        "    # split patches\n",
        "    patchesData = np.zeros((X.shape[0] * X.shape[1], windowSize, windowSize, X.shape[2]))\n",
        "    patchesLabels = np.zeros((X.shape[0] * X.shape[1]))\n",
        "    patchIndex = 0\n",
        "    for r in range(margin, zeroPaddedX.shape[0] - margin):\n",
        "        for c in range(margin, zeroPaddedX.shape[1] - margin):\n",
        "            patch = zeroPaddedX[r - margin:r + margin + 1, c - margin:c + margin + 1]   \n",
        "            patchesData[patchIndex, :, :, :] = patch\n",
        "            patchesLabels[patchIndex] = y[r-margin, c-margin]\n",
        "            patchIndex = patchIndex + 1\n",
        "    if removeZeroLabels:\n",
        "        patchesData = patchesData[patchesLabels>0,:,:,:]\n",
        "        patchesLabels = patchesLabels[patchesLabels>0]\n",
        "        patchesLabels -= 1\n",
        "    return patchesData, patchesLabels"
      ],
      "execution_count": 0,
      "outputs": []
    },
    {
      "cell_type": "code",
      "metadata": {
        "colab_type": "code",
        "id": "0qgTzXVKKyxQ",
        "colab": {}
      },
      "source": [
        "X, y = loadData()"
      ],
      "execution_count": 0,
      "outputs": []
    },
    {
      "cell_type": "code",
      "metadata": {
        "colab_type": "code",
        "id": "8Fdu_Qsz7MZN",
        "outputId": "d340fd5b-150b-4abd-e783-71495e15c39f",
        "colab": {
          "base_uri": "https://localhost:8080/",
          "height": 34
        }
      },
      "source": [
        "X.shape"
      ],
      "execution_count": 0,
      "outputs": [
        {
          "output_type": "execute_result",
          "data": {
            "text/plain": [
              "(145, 145, 200)"
            ]
          },
          "metadata": {
            "tags": []
          },
          "execution_count": 7
        }
      ]
    },
    {
      "cell_type": "code",
      "metadata": {
        "colab_type": "code",
        "id": "wPbCGwgrKyxT",
        "outputId": "38854963-d02f-435a-d876-f196274a8fad",
        "colab": {
          "base_uri": "https://localhost:8080/",
          "height": 34
        }
      },
      "source": [
        "X, y = createImageCubes(X, y, 11)\n",
        "\n",
        "X.shape, y.shape"
      ],
      "execution_count": 0,
      "outputs": [
        {
          "output_type": "execute_result",
          "data": {
            "text/plain": [
              "((10249, 11, 11, 200), (10249,))"
            ]
          },
          "metadata": {
            "tags": []
          },
          "execution_count": 8
        }
      ]
    },
    {
      "cell_type": "markdown",
      "metadata": {
        "colab_type": "text",
        "id": "CmInivJsKyxW"
      },
      "source": [
        "# Model and Training"
      ]
    },
    {
      "cell_type": "code",
      "metadata": {
        "colab_type": "code",
        "id": "yl5WqJl6KyxW",
        "colab": {}
      },
      "source": [
        "# X = X.reshape(-1, 200, 5, 5)\n",
        "# X.shape"
      ],
      "execution_count": 0,
      "outputs": []
    },
    {
      "cell_type": "code",
      "metadata": {
        "colab_type": "code",
        "id": "uMnbZ0zj5hdJ",
        "colab": {}
      },
      "source": [
        "def BAM():\n",
        "    model = Sequential()\n",
        "    model.add(Conv2D(filters=64,\n",
        "                     input_shape=(11, 11, 200),\n",
        "                     kernel_size=(3,3),\n",
        "                     strides=1,\n",
        "                     padding='valid', name=\"Conv1\"))\n",
        "    model.add(ReLU(name=\"ReLU1\"))\n",
        "    model.add(GlobalAveragePooling2D(data_format=\"channels_first\"))\n",
        "    \n",
        "    model.add(Dense(128))\n",
        "    model.add(ReLU(name=\"ReLU2\"))\n",
        "    model.add(Dense(200, activation=\"sigmoid\"))\n",
        "  \n",
        "    return model"
      ],
      "execution_count": 0,
      "outputs": []
    },
    {
      "cell_type": "code",
      "metadata": {
        "colab_type": "code",
        "id": "ApjsnxprVews",
        "colab": {}
      },
      "source": [
        "# class PAM(Layer):\n",
        "#     def __init__(self,\n",
        "#                  gamma_initializer=tf.zeros_initializer(),\n",
        "#                  gamma_regularizer=None,\n",
        "#                  gamma_constraint=None,\n",
        "#                  **kwargs):\n",
        "#         super(PAM, self).__init__(**kwargs)\n",
        "#         self.gamma_initializer = gamma_initializer\n",
        "#         self.gamma_regularizer = gamma_regularizer\n",
        "#         self.gamma_constraint = gamma_constraint\n",
        "\n",
        "#     def build(self, input_shape):\n",
        "#         self.gamma = self.add_weight(shape=(1, ),\n",
        "#                                      initializer=self.gamma_initializer,\n",
        "#                                      name='gamma',\n",
        "#                                      regularizer=self.gamma_regularizer,\n",
        "#                                      constraint=self.gamma_constraint)\n",
        "\n",
        "#         self.built = True\n",
        "\n",
        "#     def compute_output_shape(self, input_shape):\n",
        "#         return input_shape\n",
        "\n",
        "#     def call(self, input):\n",
        "#         input_shape = input.get_shape().as_list()\n",
        "#         _, h, w, filters = input_shape\n",
        "\n",
        "#         b = Conv2D(filters // 8, 1, use_bias=False, kernel_initializer='he_normal')(input)\n",
        "#         c = Conv2D(filters // 8, 1, use_bias=False, kernel_initializer='he_normal')(input)\n",
        "#         d = Conv2D(filters, 1, use_bias=False, kernel_initializer='he_normal')(input)\n",
        "\n",
        "#         vec_b = K.reshape(b, (-1, h * w, filters // 8))\n",
        "#         vec_cT = tf.transpose(K.reshape(c, (-1, h * w, filters // 8)), (0, 2, 1))\n",
        "#         bcT = K.batch_dot(vec_b, vec_cT)\n",
        "#         softmax_bcT = Activation('softmax')(bcT)\n",
        "#         vec_d = K.reshape(d, (-1, h * w, filters))\n",
        "#         bcTd = K.batch_dot(softmax_bcT, vec_d)\n",
        "#         bcTd = K.reshape(bcTd, (-1, h, w, filters))\n",
        "\n",
        "#         out = self.gamma*bcTd + input\n",
        "#         return out\n",
        "\n",
        "\n",
        "# class CAM(Layer):\n",
        "#     def __init__(self,\n",
        "#                  gamma_initializer=tf.zeros_initializer(),\n",
        "#                  gamma_regularizer=None,\n",
        "#                  gamma_constraint=None,\n",
        "#                  **kwargs):\n",
        "#         super(CAM, self).__init__(**kwargs)\n",
        "#         self.gamma_initializer = gamma_initializer\n",
        "#         self.gamma_regularizer = gamma_regularizer\n",
        "#         self.gamma_constraint = gamma_constraint\n",
        "\n",
        "#     def build(self, input_shape):\n",
        "#         self.gamma = self.add_weight(shape=(1, ),\n",
        "#                                      initializer=self.gamma_initializer,\n",
        "#                                      name='gamma',\n",
        "#                                      regularizer=self.gamma_regularizer,\n",
        "#                                      constraint=self.gamma_constraint)\n",
        "\n",
        "#         self.built = True\n",
        "\n",
        "#     def compute_output_shape(self, input_shape):\n",
        "#         return input_shape\n",
        "\n",
        "#     def call(self, input):\n",
        "#         input_shape = input.get_shape().as_list()\n",
        "#         _, h, w, filters = input_shape\n",
        "\n",
        "#         vec_a = K.reshape(input, (-1, h * w, filters))\n",
        "#         vec_aT = tf.transpose(vec_a, (0, 2, 1))\n",
        "#         aTa = K.batch_dot(vec_aT, vec_a)\n",
        "#         softmax_aTa = Activation('softmax')(aTa)\n",
        "#         aaTa = K.batch_dot(vec_a, softmax_aTa)\n",
        "#         aaTa = K.reshape(aaTa, (-1, h, w, filters))\n",
        "\n",
        "#         out = self.gamma*aaTa + input\n",
        "#         return out\n",
        "      \n",
        "# def DA():\n",
        "#     input_layer = Input((11, 11, 200))\n",
        "#     pam = PAM()(input_layer)\n",
        "#     cam = CAM()(input_layer)\n",
        "    \n",
        "#     feature_sum = add([pam, cam])\n",
        "    \n",
        "#     return Model(inputs=input_layer, outputs=feature_sum)"
      ],
      "execution_count": 0,
      "outputs": []
    },
    {
      "cell_type": "code",
      "metadata": {
        "colab_type": "code",
        "id": "dvQBnOxVKyxZ",
        "colab": {}
      },
      "source": [
        "def DCAE(weight_decay=0.0005):\n",
        "    model = Sequential()\n",
        "    model.add(Conv3D(filters=24,\n",
        "                     input_shape=(200, 11, 11, 1),\n",
        "                     kernel_size=(24, 3, 3),\n",
        "                     strides=(1, 1, 1),\n",
        "                     kernel_regularizer=regularizers.l2(l=weight_decay),\n",
        "                     padding='valid', name=\"Conv1\"))\n",
        "    model.add(BatchNormalization(name=\"BN1\"))\n",
        "    model.add(PReLU(name=\"PReLU1\"))\n",
        "\n",
        "    model.add(Conv3D(filters=48,\n",
        "                     kernel_size=(24, 3, 3),\n",
        "                     strides=(1, 1, 1),\n",
        "                     kernel_regularizer=regularizers.l2(l=weight_decay),\n",
        "                     padding='valid', name=\"Conv2\"))\n",
        "    model.add(BatchNormalization(name=\"BN2\"))\n",
        "    model.add(PReLU(name=\"PReLU2\"))\n",
        "\n",
        "    model.add(MaxPool3D(pool_size=(18, 1, 1),\n",
        "                        strides=(18, 1, 1), name=\"Pool1\"))\n",
        "\n",
        "    model.add(Conv3DTranspose(filters=24,\n",
        "                              kernel_size=(9, 3, 3),\n",
        "                              kernel_regularizer=regularizers.l2(\n",
        "                                  l=weight_decay),\n",
        "                              strides=(22, 1, 1), name=\"Deconv1\", padding='valid'))\n",
        "    model.add(BatchNormalization(name=\"BN3\"))\n",
        "    model.add(PReLU(name=\"PReLU3\"))\n",
        "    model.add(Conv3DTranspose(filters=1,\n",
        "                              kernel_size=(25, 3, 3),\n",
        "                              kernel_regularizer=regularizers.l2(\n",
        "                                  l=weight_decay),\n",
        "                              strides=(1, 1, 1), name=\"Deconv2\", padding='valid'))\n",
        "    model.add(BatchNormalization(name=\"BN4\"))\n",
        "    \n",
        "    return model"
      ],
      "execution_count": 0,
      "outputs": []
    },
    {
      "cell_type": "code",
      "metadata": {
        "colab_type": "code",
        "id": "fPtnuhhpDAC8",
        "colab": {}
      },
      "source": [
        "def Ensemble():\n",
        "    input_layer = Input((11, 11, 200))\n",
        "    band_activations = BAM()(input_layer)\n",
        "    # band_activations = Reshape((200, 1, 1))(band_activations)\n",
        "    \n",
        "    bam_output = multiply([band_activations, input_layer])\n",
        "    \n",
        "    bam_output = Reshape((200, 11, 11, 1))(bam_output)\n",
        "    # da_output = DA()(input_layer)\n",
        "    # da_output = Permute((3,1,2), input_shape=(11,11,200))(da_output)\n",
        "    # da_output = Reshape((200, 11, 11, 1))(da_output)\n",
        "    output = DCAE()(bam_output)\n",
        "    \n",
        "    \n",
        "    return Model(inputs=input_layer, outputs=output)\n",
        "    "
      ],
      "execution_count": 0,
      "outputs": []
    },
    {
      "cell_type": "code",
      "metadata": {
        "colab_type": "code",
        "id": "CdiDxfoAKyxb",
        "outputId": "258e9864-b48d-4f27-9667-b8779c73a45c",
        "colab": {
          "base_uri": "https://localhost:8080/",
          "height": 506
        }
      },
      "source": [
        "# model = DCAE(weight_decay=0.0005)\n",
        "model = Ensemble()\n",
        "model.summary()"
      ],
      "execution_count": 0,
      "outputs": [
        {
          "output_type": "stream",
          "text": [
            "WARNING:tensorflow:From /usr/local/lib/python3.6/dist-packages/keras/backend/tensorflow_backend.py:66: The name tf.get_default_graph is deprecated. Please use tf.compat.v1.get_default_graph instead.\n",
            "\n",
            "WARNING:tensorflow:From /usr/local/lib/python3.6/dist-packages/keras/backend/tensorflow_backend.py:541: The name tf.placeholder is deprecated. Please use tf.compat.v1.placeholder instead.\n",
            "\n",
            "WARNING:tensorflow:From /usr/local/lib/python3.6/dist-packages/keras/backend/tensorflow_backend.py:4432: The name tf.random_uniform is deprecated. Please use tf.random.uniform instead.\n",
            "\n",
            "WARNING:tensorflow:From /usr/local/lib/python3.6/dist-packages/keras/backend/tensorflow_backend.py:148: The name tf.placeholder_with_default is deprecated. Please use tf.compat.v1.placeholder_with_default instead.\n",
            "\n",
            "Model: \"model_1\"\n",
            "__________________________________________________________________________________________________\n",
            "Layer (type)                    Output Shape         Param #     Connected to                     \n",
            "==================================================================================================\n",
            "input_1 (InputLayer)            (None, 11, 11, 200)  0                                            \n",
            "__________________________________________________________________________________________________\n",
            "sequential_1 (Sequential)       (None, 200)          142344      input_1[0][0]                    \n",
            "__________________________________________________________________________________________________\n",
            "multiply_1 (Multiply)           (None, 11, 11, 200)  0           sequential_1[1][0]               \n",
            "                                                                 input_1[0][0]                    \n",
            "__________________________________________________________________________________________________\n",
            "reshape_1 (Reshape)             (None, 200, 11, 11,  0           multiply_1[0][0]                 \n",
            "__________________________________________________________________________________________________\n",
            "sequential_2 (Sequential)       (None, 200, 11, 11,  1401653     reshape_1[0][0]                  \n",
            "==================================================================================================\n",
            "Total params: 1,543,997\n",
            "Trainable params: 1,543,803\n",
            "Non-trainable params: 194\n",
            "__________________________________________________________________________________________________\n"
          ],
          "name": "stdout"
        }
      ]
    },
    {
      "cell_type": "code",
      "metadata": {
        "colab_type": "code",
        "id": "gZ9vjeqYKyxg",
        "colab": {}
      },
      "source": [
        "def psnr(x_true, x_pred):\n",
        "    n_samples = x_true.shape[0]\n",
        "    n_bands = x_true.shape[1]\n",
        "    PSNR = np.zeros(n_bands)\n",
        "    MSE = np.zeros(n_bands)\n",
        "    mask = np.ones(n_bands)\n",
        "    for k in range(n_bands):\n",
        "        x_true_k = x_true[:, k].reshape([-1])\n",
        "        x_pred_k = x_pred[:, k].reshape([-1])\n",
        "        MSE[k] = 1.0 / n_samples * mean_squared_error(x_true_k, x_pred_k, )\n",
        "        MAX_k = np.max(x_true_k)\n",
        "        if MAX_k != 0:\n",
        "            PSNR[k] = 10 * math.log10(math.pow(MAX_k, 2) / MSE[k])\n",
        "        else:\n",
        "            mask[k] = 0\n",
        "\n",
        "    psnr = PSNR.sum()/mask.sum()\n",
        "    mse = MSE.mean()\n",
        "    print('psnr', psnr)\n",
        "    print('mse', mse)\n",
        "    \n",
        "    return psnr, mse"
      ],
      "execution_count": 0,
      "outputs": []
    },
    {
      "cell_type": "code",
      "metadata": {
        "colab_type": "code",
        "id": "UxjZ9mdUblcy",
        "colab": {}
      },
      "source": [
        "import scipy\n",
        "from scipy.special import kl_div\n",
        "def Dskl(Bi,Bj):\n",
        "  \n",
        "  \n",
        "  pk = np.histogramdd(np.ravel(Bi), bins = 256)[0]/Bi.size \n",
        "  #pk = list(filter(lambda p: p > 0, pk))\n",
        "  pk = np.array(pk)\n",
        "\n",
        "  qk = np.histogramdd(np.ravel(Bj), bins = 256)[0]/Bj.size\n",
        "  #qk = list(filter(lambda p: p > 0, qk)\n",
        "  qk = np.array(qk)\n",
        "  \n",
        "  \n",
        "  S = kl_div(pk,qk) + kl_div(qk,pk)\n",
        "  \n",
        "  #S = np.sum(pk * np.log2(pk / qk), axis=0) + np.sum(qk * np.log2(qk / pk), axis=0)\n",
        "  \n",
        "  return S"
      ],
      "execution_count": 0,
      "outputs": []
    },
    {
      "cell_type": "code",
      "metadata": {
        "id": "GG4t0Q7LxdUi",
        "colab_type": "code",
        "colab": {}
      },
      "source": [
        "import matplotlib.pyplot as plt\n",
        "%matplotlib inline"
      ],
      "execution_count": 0,
      "outputs": []
    },
    {
      "cell_type": "code",
      "metadata": {
        "colab_type": "code",
        "id": "-Lt3ejW8OkA3",
        "colab": {}
      },
      "source": [
        "ENTROPY = np.zeros(200)\n",
        "import skimage.measure\n",
        "def topkbands(x_predict, topk):\n",
        "  for i in range(0,len(ENTROPY)):\n",
        "    ENTROPY[i]+=skimage.measure.shannon_entropy(x_predict[:,i,:,:])\n",
        "  \n",
        "  print('Top k bands with Entropy ->',ENTROPY.argsort()[-topk:][::-1])"
      ],
      "execution_count": 0,
      "outputs": []
    },
    {
      "cell_type": "code",
      "metadata": {
        "colab_type": "code",
        "id": "Y4bEPCGGYyP0",
        "colab": {}
      },
      "source": [
        "def MSD(x_predict, topk):\n",
        "  top = ENTROPY.argsort()[-topk:][::-1]\n",
        "  perbatch = list(0 for i in range(0,160))\n",
        "  for batch_idx in range(0,len(perbatch)):\n",
        "    for i in range(0,len(top)):\n",
        "      for j in range(0,i):\n",
        "        perbatch[batch_idx]+=Dskl(x_predict[:,top[i],:,:],x_predict[:,top[j],:,:])\n",
        "  perbatch = np.array(perbatch)\n",
        "  perbatch[perbatch>=1E03]=0\n",
        "  print('Mean of MSD with Top k bands is \\n',np.mean(perbatch)*100)"
      ],
      "execution_count": 0,
      "outputs": []
    },
    {
      "cell_type": "code",
      "metadata": {
        "id": "IXzqZf5JxSv6",
        "colab_type": "code",
        "colab": {}
      },
      "source": [
        "def plott(ENTROPY):\n",
        "  fig = plt.figure(figsize=(40,4))\n",
        "  ax1 = fig.add_subplot(121)\n",
        "  ax1.plot(ENTROPY)\n",
        "\n"
      ],
      "execution_count": 0,
      "outputs": []
    },
    {
      "cell_type": "code",
      "metadata": {
        "id": "2gO3vGwMf0Zr",
        "colab_type": "code",
        "colab": {}
      },
      "source": [
        "ENTROPY = np.zeros(200)\n",
        "import skimage.measure\n",
        "def output_entropy(x_predict):\n",
        "  for i in range(0,len(ENTROPY)):\n",
        "    ENTROPY[i]+=skimage.measure.shannon_entropy(x_predict[:,i,:,:])\n",
        "  plott(ENTROPY)\n",
        "  "
      ],
      "execution_count": 0,
      "outputs": []
    },
    {
      "cell_type": "code",
      "metadata": {
        "colab_type": "code",
        "id": "2x0UcifSKyxj",
        "colab": {}
      },
      "source": [
        "from keras.callbacks import Callback\n",
        "from sklearn.metrics import mean_squared_error\n",
        "import math\n",
        "\n",
        "class MyLogger(Callback):\n",
        "    def on_epoch_end(self, epoch, logs=None):\n",
        "      pass\n",
        "        #x_predict = model.predict(X)\n",
        "       # x_true = np.asarray(X)\n",
        "       # x_pred_centre = x_predict[:, :, 2, 2]\n",
        "       # x_true_centre = x_true[:, :, 2, 2]\n",
        "       # psnr(x_true_centre, x_pred_centre)\n",
        "       # topkbands(x_predict, 15)\n",
        "    def on_train_end(self,logs=None):\n",
        "      x_predict = model.predict(X)\n",
        "      output_entropy(x_predict)\n",
        "      #MSD(x_predict, 30)"
      ],
      "execution_count": 0,
      "outputs": []
    },
    {
      "cell_type": "code",
      "metadata": {
        "colab_type": "code",
        "id": "bJYuFFA6Kyxl",
        "outputId": "59f2d878-aff8-4ff5-8890-d11855732fd1",
        "colab": {
          "base_uri": "https://localhost:8080/",
          "height": 1000
        }
      },
      "source": [
        "model.compile(loss=keras.losses.mse, optimizer=keras.optimizers.Adam(lr=0.1))\n",
        "\n",
        "n_epoch = 50\n",
        "\n",
        "model.fit(X, X.reshape(-1, 200, 11, 11, 1), epochs=n_epoch, shuffle=True, verbose=1, batch_size=256, callbacks=[MyLogger()])"
      ],
      "execution_count": 0,
      "outputs": [
        {
          "output_type": "stream",
          "text": [
            "Epoch 1/50\n",
            "10249/10249 [==============================] - 89s 9ms/step - loss: 8761893.5203\n",
            "Epoch 2/50\n",
            "10249/10249 [==============================] - 87s 8ms/step - loss: 8727215.8598\n",
            "Epoch 3/50\n",
            "10249/10249 [==============================] - 86s 8ms/step - loss: 8694071.4020\n",
            "Epoch 4/50\n",
            "10249/10249 [==============================] - 86s 8ms/step - loss: 8661113.8521\n",
            "Epoch 5/50\n",
            "10249/10249 [==============================] - 86s 8ms/step - loss: 8628325.5424\n",
            "Epoch 6/50\n",
            "10249/10249 [==============================] - 86s 8ms/step - loss: 8595654.9985\n",
            "Epoch 7/50\n",
            "10249/10249 [==============================] - 86s 8ms/step - loss: 8563032.0400\n",
            "Epoch 8/50\n",
            "10249/10249 [==============================] - 86s 8ms/step - loss: 8530504.6073\n",
            "Epoch 9/50\n",
            "10249/10249 [==============================] - 86s 8ms/step - loss: 8498080.3015\n",
            "Epoch 10/50\n",
            "10249/10249 [==============================] - 86s 8ms/step - loss: 8465804.2534\n",
            "Epoch 11/50\n",
            "10249/10249 [==============================] - 86s 8ms/step - loss: 8433619.9087\n",
            "Epoch 12/50\n",
            "10249/10249 [==============================] - 86s 8ms/step - loss: 8401518.9639\n",
            "Epoch 13/50\n",
            "10249/10249 [==============================] - 86s 8ms/step - loss: 8370868.6439\n",
            "Epoch 14/50\n",
            "10249/10249 [==============================] - 86s 8ms/step - loss: 8337798.1625\n",
            "Epoch 15/50\n",
            "10249/10249 [==============================] - 86s 8ms/step - loss: 8305950.1591\n",
            "Epoch 16/50\n",
            "10249/10249 [==============================] - 86s 8ms/step - loss: 8274076.8057\n",
            "Epoch 17/50\n",
            "10249/10249 [==============================] - 86s 8ms/step - loss: 8242868.6340\n",
            "Epoch 18/50\n",
            "10249/10249 [==============================] - 86s 8ms/step - loss: 8210970.0052\n",
            "Epoch 19/50\n",
            "10249/10249 [==============================] - 86s 8ms/step - loss: 8179506.3811\n",
            "Epoch 20/50\n",
            "10249/10249 [==============================] - 86s 8ms/step - loss: 8148158.0260\n",
            "Epoch 21/50\n",
            "10249/10249 [==============================] - 86s 8ms/step - loss: 8116848.5358\n",
            "Epoch 22/50\n",
            "10249/10249 [==============================] - 86s 8ms/step - loss: 8085631.2962\n",
            "Epoch 23/50\n",
            "10249/10249 [==============================] - 86s 8ms/step - loss: 8055191.5997\n",
            "Epoch 24/50\n",
            "10249/10249 [==============================] - 86s 8ms/step - loss: 8023585.0068\n",
            "Epoch 25/50\n",
            "10249/10249 [==============================] - 86s 8ms/step - loss: 7992627.3641\n",
            "Epoch 26/50\n",
            "10249/10249 [==============================] - 86s 8ms/step - loss: 7961848.0641\n",
            "Epoch 27/50\n",
            "10249/10249 [==============================] - 86s 8ms/step - loss: 7931051.9477\n",
            "Epoch 28/50\n",
            "10249/10249 [==============================] - 86s 8ms/step - loss: 7900434.9575\n",
            "Epoch 29/50\n",
            "10249/10249 [==============================] - 86s 8ms/step - loss: 7869784.0243\n",
            "Epoch 30/50\n",
            "10249/10249 [==============================] - 86s 8ms/step - loss: 7839330.0921\n",
            "Epoch 31/50\n",
            "10249/10249 [==============================] - 86s 8ms/step - loss: 7808990.7749\n",
            "Epoch 32/50\n",
            "10249/10249 [==============================] - 86s 8ms/step - loss: 7778765.4706\n",
            "Epoch 33/50\n",
            "10249/10249 [==============================] - 86s 8ms/step - loss: 7748407.9937\n",
            "Epoch 34/50\n",
            "10249/10249 [==============================] - 86s 8ms/step - loss: 7718182.4149\n",
            "Epoch 35/50\n",
            "10249/10249 [==============================] - 86s 8ms/step - loss: 7688250.4099\n",
            "Epoch 36/50\n",
            "10249/10249 [==============================] - 86s 8ms/step - loss: 7658206.1552\n",
            "Epoch 37/50\n",
            "10249/10249 [==============================] - 86s 8ms/step - loss: 7628263.7916\n",
            "Epoch 38/50\n",
            "10249/10249 [==============================] - 86s 8ms/step - loss: 7598475.7014\n",
            "Epoch 39/50\n",
            "10249/10249 [==============================] - 86s 8ms/step - loss: 7568706.4267\n",
            "Epoch 40/50\n",
            "10249/10249 [==============================] - 86s 8ms/step - loss: 7540505.0606\n",
            "Epoch 41/50\n",
            "10249/10249 [==============================] - 86s 8ms/step - loss: 7509637.2934\n",
            "Epoch 42/50\n",
            "10249/10249 [==============================] - 86s 8ms/step - loss: 7480027.2484\n",
            "Epoch 43/50\n",
            "10249/10249 [==============================] - 86s 8ms/step - loss: 7450516.0242\n",
            "Epoch 44/50\n",
            "10249/10249 [==============================] - 86s 8ms/step - loss: 7421322.9065\n",
            "Epoch 45/50\n",
            "10249/10249 [==============================] - 86s 8ms/step - loss: 7391943.4617\n",
            "Epoch 46/50\n",
            "10249/10249 [==============================] - 86s 8ms/step - loss: 7362740.5918\n",
            "Epoch 47/50\n",
            "10249/10249 [==============================] - 86s 8ms/step - loss: 7333656.4247\n",
            "Epoch 48/50\n",
            "10249/10249 [==============================] - 86s 8ms/step - loss: 7304855.4918\n",
            "Epoch 49/50\n",
            "10249/10249 [==============================] - 86s 8ms/step - loss: 7275706.8202\n",
            "Epoch 50/50\n",
            "10249/10249 [==============================] - 86s 8ms/step - loss: 7246889.2175\n"
          ],
          "name": "stdout"
        },
        {
          "output_type": "execute_result",
          "data": {
            "text/plain": [
              "<keras.callbacks.History at 0x7f223c34be48>"
            ]
          },
          "metadata": {
            "tags": []
          },
          "execution_count": 68
        },
        {
          "output_type": "display_data",
          "data": {
            "image/png": "[encoded data removed]",
            "text/plain": [
              "<Figure size 2880x288 with 1 Axes>"
            ]
          },
          "metadata": {
            "tags": []
          }
        }
      ]
    },
    {
      "cell_type": "code",
      "metadata": {
        "id": "nIqFic1ujcNh",
        "colab_type": "code",
        "colab": {}
      },
      "source": [
        ""
      ],
      "execution_count": 0,
      "outputs": []
    },
    {
      "cell_type": "code",
      "metadata": {
        "id": "vAyIANVQjcK8",
        "colab_type": "code",
        "colab": {}
      },
      "source": [
        ""
      ],
      "execution_count": 0,
      "outputs": []
    },
    {
      "cell_type": "code",
      "metadata": {
        "id": "vl_fSjufjcGY",
        "colab_type": "code",
        "colab": {}
      },
      "source": [
        ""
      ],
      "execution_count": 0,
      "outputs": []
    },
    {
      "cell_type": "code",
      "metadata": {
        "id": "qUwZJ-tbjcB6",
        "colab_type": "code",
        "colab": {}
      },
      "source": [
        ""
      ],
      "execution_count": 0,
      "outputs": []
    },
    {
      "cell_type": "code",
      "metadata": {
        "colab_type": "code",
        "id": "ZjM-3EmM6itd",
        "colab": {}
      },
      "source": [
        "sel_bands = sorted([ 68, 182,  73, 149,  63, 111, 106, 116, 154, 144,  78,  58, 159, 101, 139])"
      ],
      "execution_count": 0,
      "outputs": []
    },
    {
      "cell_type": "code",
      "metadata": {
        "colab_type": "code",
        "id": "5yXr1gQ87H86",
        "colab": {}
      },
      "source": [
        "X, y = loadData()"
      ],
      "execution_count": 0,
      "outputs": []
    },
    {
      "cell_type": "code",
      "metadata": {
        "colab_type": "code",
        "id": "IbXKhXmn7hiT",
        "colab": {}
      },
      "source": [
        "X_ = X[:, :, sel_bands[0]]\n",
        "for i in sel_bands[1:]:\n",
        "  X_ = np.dstack((X_, X[:, :, i]))"
      ],
      "execution_count": 0,
      "outputs": []
    },
    {
      "cell_type": "code",
      "metadata": {
        "colab_type": "code",
        "id": "JmJLUQ4B8T_N",
        "colab": {}
      },
      "source": [
        "X_.shape"
      ],
      "execution_count": 0,
      "outputs": []
    },
    {
      "cell_type": "code",
      "metadata": {
        "colab_type": "code",
        "id": "lbk4aNAGUkSj",
        "colab": {}
      },
      "source": [
        "img_rows, img_cols = 11, 11\n",
        "nb_classes = 16\n",
        "img_channels = 15"
      ],
      "execution_count": 0,
      "outputs": []
    },
    {
      "cell_type": "code",
      "metadata": {
        "colab_type": "code",
        "id": "3uMzXi8GBToQ",
        "colab": {}
      },
      "source": [
        "import ssrn_SS_IN \n",
        "\n",
        "model_res4 = ssrn_SS_IN.ResnetBuilder.build_resnet_8((1, img_rows, img_cols, img_channels), nb_classes)"
      ],
      "execution_count": 0,
      "outputs": []
    },
    {
      "cell_type": "code",
      "metadata": {
        "colab_type": "code",
        "id": "NQiz0-kURGPb",
        "colab": {}
      },
      "source": [
        "# ## input layer\n",
        "# input_layer = Input((5, 5, 30, 1))\n",
        "\n",
        "# ## convolutional layers\n",
        "# conv_layer1 = Conv3D(filters=8, kernel_size=(3, 3, 7), activation='relu', padding='same')(input_layer)\n",
        "# conv_layer2 = Conv3D(filters=16, kernel_size=(3, 3, 5), activation='relu', padding='same')(conv_layer1)\n",
        "# conv_layer3 = Conv3D(filters=32, kernel_size=(3, 3, 3), activation='relu', padding='same')(conv_layer2)\n",
        "# print(conv_layer3._keras_shape)\n",
        "# conv3d_shape = conv_layer3._keras_shape\n",
        "# conv_layer3 = Reshape((conv3d_shape[1], conv3d_shape[2], conv3d_shape[3]*conv3d_shape[4]))(conv_layer3)\n",
        "# conv_layer4 = Conv2D(filters=64, kernel_size=(3,3), activation='relu')(conv_layer3)\n",
        "\n",
        "# flatten_layer = Flatten()(conv_layer4)\n",
        "\n",
        "# ## fully connected layers\n",
        "# dense_layer1 = Dense(units=256, activation='relu')(flatten_layer)\n",
        "# dense_layer1 = Dropout(0.4)(dense_layer1)\n",
        "# dense_layer2 = Dense(units=128, activation='relu')(dense_layer1)\n",
        "# dense_layer2 = Dropout(0.4)(dense_layer2)\n",
        "# output_layer = Dense(units=16, activation='softmax')(dense_layer2)\n",
        "\n",
        "# model_res4 = Model(inputs=input_layer, outputs=output_layer)"
      ],
      "execution_count": 0,
      "outputs": []
    },
    {
      "cell_type": "code",
      "metadata": {
        "colab_type": "code",
        "id": "-vR2L60-RNBO",
        "colab": {}
      },
      "source": [
        "adam = Adam(lr=0.0001, decay=1e-06)\n",
        "model_res4.compile(loss='categorical_crossentropy', optimizer=adam, metrics=['accuracy'])"
      ],
      "execution_count": 0,
      "outputs": []
    },
    {
      "cell_type": "code",
      "metadata": {
        "colab_type": "code",
        "id": "ckGYb7rLYJkY",
        "colab": {}
      },
      "source": [
        "X, y = createImageCubes(X_, y, 11)"
      ],
      "execution_count": 0,
      "outputs": []
    },
    {
      "cell_type": "code",
      "metadata": {
        "colab_type": "code",
        "id": "6242dhHqNgYJ",
        "colab": {}
      },
      "source": [
        "X.shape, y.shape"
      ],
      "execution_count": 0,
      "outputs": []
    },
    {
      "cell_type": "code",
      "metadata": {
        "colab_type": "code",
        "id": "lSFgxTJNPJxr",
        "colab": {}
      },
      "source": [
        "def splitTrainTestSet(X, y, testRatio, randomState=345):\n",
        "    X_train, X_test, y_train, y_test = train_test_split(X, y, test_size=testRatio, random_state=randomState,\n",
        "                                                        stratify=y)\n",
        "    return X_train, X_test, y_train, y_test"
      ],
      "execution_count": 0,
      "outputs": []
    },
    {
      "cell_type": "code",
      "metadata": {
        "colab_type": "code",
        "id": "TJPJ9yL-NjPG",
        "colab": {}
      },
      "source": [
        "Xtrain, Xtest, ytrain, ytest = splitTrainTestSet(X, y, 0.5)\n",
        "\n",
        "Xtrain.shape, Xtest.shape, ytrain.shape, ytest.shape"
      ],
      "execution_count": 0,
      "outputs": []
    },
    {
      "cell_type": "code",
      "metadata": {
        "colab_type": "code",
        "id": "CupnGFcvPC-R",
        "colab": {}
      },
      "source": [
        "Xtrain, Xvalid, ytrain, yvalid = splitTrainTestSet(Xtrain, ytrain, 0.5)\n",
        "\n",
        "Xtrain.shape, Xvalid.shape, ytrain.shape, yvalid.shape"
      ],
      "execution_count": 0,
      "outputs": []
    },
    {
      "cell_type": "code",
      "metadata": {
        "colab_type": "code",
        "id": "dhHtm07CPZC6",
        "colab": {}
      },
      "source": [
        "Xtrain = Xtrain.reshape(-1, 11, 11, 15, 1)\n",
        "Xtrain.shape"
      ],
      "execution_count": 0,
      "outputs": []
    },
    {
      "cell_type": "code",
      "metadata": {
        "colab_type": "code",
        "id": "h_lXHKcIPg5P",
        "colab": {}
      },
      "source": [
        "Xvalid = Xvalid.reshape(-1, 11, 11, 15, 1)\n",
        "Xvalid.shape"
      ],
      "execution_count": 0,
      "outputs": []
    },
    {
      "cell_type": "code",
      "metadata": {
        "colab_type": "code",
        "id": "ROce1ja1Pr3T",
        "colab": {}
      },
      "source": [
        "ytrain = np_utils.to_categorical(ytrain)\n",
        "ytrain.shape"
      ],
      "execution_count": 0,
      "outputs": []
    },
    {
      "cell_type": "code",
      "metadata": {
        "colab_type": "code",
        "id": "WfcO5jA6PwnI",
        "colab": {}
      },
      "source": [
        "yvalid = np_utils.to_categorical(yvalid)\n",
        "yvalid.shape"
      ],
      "execution_count": 0,
      "outputs": []
    },
    {
      "cell_type": "code",
      "metadata": {
        "colab_type": "code",
        "id": "leGgi6LfP3Yp",
        "colab": {}
      },
      "source": [
        "model_res4.summary()"
      ],
      "execution_count": 0,
      "outputs": []
    },
    {
      "cell_type": "code",
      "metadata": {
        "colab_type": "code",
        "id": "RO1as-LZQDLh",
        "colab": {}
      },
      "source": [
        "history = model_res4.fit(x=Xtrain, y=ytrain, batch_size=64, epochs=500, validation_data=(Xvalid, yvalid))"
      ],
      "execution_count": 0,
      "outputs": []
    },
    {
      "cell_type": "code",
      "metadata": {
        "colab_type": "code",
        "id": "gkDXf5iEQZz2",
        "colab": {}
      },
      "source": [
        "Xtest = Xtest.reshape(-1, 11, 11, 15, 1)\n",
        "Xtest.shape"
      ],
      "execution_count": 0,
      "outputs": []
    },
    {
      "cell_type": "code",
      "metadata": {
        "colab_type": "code",
        "id": "t6PwhEPArDKi",
        "colab": {}
      },
      "source": [
        "ytest = np_utils.to_categorical(ytest)\n",
        "ytest.shape"
      ],
      "execution_count": 0,
      "outputs": []
    },
    {
      "cell_type": "code",
      "metadata": {
        "colab_type": "code",
        "id": "jq8_dH9arGSv",
        "colab": {}
      },
      "source": [
        "from sklearn.metrics import confusion_matrix, accuracy_score, classification_report, cohen_kappa_score\n",
        "\n",
        "Y_pred_test = model_res4.predict(Xtest)\n",
        "y_pred_test = np.argmax(Y_pred_test, axis=1)\n",
        "\n",
        "classification = classification_report(np.argmax(ytest, axis=1), y_pred_test)\n",
        "print(classification)"
      ],
      "execution_count": 0,
      "outputs": []
    },
    {
      "cell_type": "code",
      "metadata": {
        "colab_type": "code",
        "id": "xPrK2AgVrNxq",
        "colab": {}
      },
      "source": [
        "def AA_andEachClassAccuracy(confusion_matrix):\n",
        "    counter = confusion_matrix.shape[0]\n",
        "    list_diag = np.diag(confusion_matrix)\n",
        "    list_raw_sum = np.sum(confusion_matrix, axis=1)\n",
        "    each_acc = np.nan_to_num(truediv(list_diag, list_raw_sum))\n",
        "    average_acc = np.mean(each_acc)\n",
        "    return each_acc, average_acc"
      ],
      "execution_count": 0,
      "outputs": []
    },
    {
      "cell_type": "code",
      "metadata": {
        "colab_type": "code",
        "id": "hwfob-BpsA-4",
        "colab": {}
      },
      "source": [
        "def reports (X_test,y_test):\n",
        "    #start = time.time()\n",
        "    Y_pred = model_res4.predict(X_test)\n",
        "    y_pred = np.argmax(Y_pred, axis=1)\n",
        "    #end = time.time()\n",
        "    #print(end - start)\n",
        "\n",
        "    target_names = ['Alfalfa', 'Corn-notill', 'Corn-mintill', 'Corn'\n",
        "                    ,'Grass-pasture', 'Grass-trees', 'Grass-pasture-mowed', \n",
        "                    'Hay-windrowed', 'Oats', 'Soybean-notill', 'Soybean-mintill',\n",
        "                    'Soybean-clean', 'Wheat', 'Woods', 'Buildings-Grass-Trees-Drives',\n",
        "                    'Stone-Steel-Towers']\n",
        "\n",
        "    classification = classification_report(np.argmax(y_test, axis=1), y_pred, target_names=target_names)\n",
        "    oa = accuracy_score(np.argmax(y_test, axis=1), y_pred)\n",
        "    confusion = confusion_matrix(np.argmax(y_test, axis=1), y_pred)\n",
        "    each_acc, aa = AA_andEachClassAccuracy(confusion)\n",
        "    kappa = cohen_kappa_score(np.argmax(y_test, axis=1), y_pred)\n",
        "    score = model_res4.evaluate(X_test, y_test, batch_size=32)\n",
        "    Test_Loss =  score[0]*100\n",
        "    Test_accuracy = score[1]*100\n",
        "    \n",
        "    return classification, confusion, Test_Loss, Test_accuracy, oa*100, each_acc*100, aa*100, kappa*100"
      ],
      "execution_count": 0,
      "outputs": []
    },
    {
      "cell_type": "code",
      "metadata": {
        "colab_type": "code",
        "id": "D5PpzPyhsJ5y",
        "colab": {}
      },
      "source": [
        "classification, confusion, Test_loss, Test_accuracy, oa, each_acc, aa, kappa = reports(Xtest,ytest)\n",
        "classification = str(classification)\n",
        "confusion = str(confusion)\n",
        "file_name = \"classification_report.txt\"\n",
        "\n",
        "with open(file_name, 'w') as x_file:\n",
        "    x_file.write('{} Test loss (%)'.format(Test_loss))\n",
        "    x_file.write('\\n')\n",
        "    x_file.write('{} Test accuracy (%)'.format(Test_accuracy))\n",
        "    x_file.write('\\n')\n",
        "    x_file.write('\\n')\n",
        "    x_file.write('{} Kappa accuracy (%)'.format(kappa))\n",
        "    x_file.write('\\n')\n",
        "    x_file.write('{} Overall accuracy (%)'.format(oa))\n",
        "    x_file.write('\\n')\n",
        "    x_file.write('{} Average accuracy (%)'.format(aa))\n",
        "    x_file.write('\\n')\n",
        "    x_file.write('\\n')\n",
        "    x_file.write('{}'.format(classification))\n",
        "    x_file.write('\\n')\n",
        "    x_file.write('{}'.format(confusion))"
      ],
      "execution_count": 0,
      "outputs": []
    },
    {
      "cell_type": "code",
      "metadata": {
        "colab_type": "code",
        "id": "jqSkmfwfsaBm",
        "colab": {}
      },
      "source": [
        ""
      ],
      "execution_count": 0,
      "outputs": []
    }
  ]
}