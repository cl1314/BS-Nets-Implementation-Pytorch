{
  "nbformat": 4,
  "nbformat_minor": 0,
  "metadata": {
    "accelerator": "GPU",
    "colab": {
      "name": "University Pavia : BSDA_RecNet.ipynb",
      "provenance": [],
      "collapsed_sections": [],
      "machine_shape": "hm",
      "include_colab_link": true
    },
    "kernelspec": {
      "display_name": "Python 3",
      "language": "python",
      "name": "python3"
    },
    "language_info": {
      "codemirror_mode": {
        "name": "ipython",
        "version": 3
      },
      "file_extension": ".py",
      "mimetype": "text/x-python",
      "name": "python",
      "nbconvert_exporter": "python",
      "pygments_lexer": "ipython3",
      "version": "3.7.4"
    }
  },
  "cells": [
    {
      "cell_type": "markdown",
      "metadata": {
        "id": "view-in-github",
        "colab_type": "text"
      },
      "source": [
        "<a href=\"https://colab.research.google.com/github/ucalyptus/BS-Nets-Implementation-Pytorch/blob/dual-attention/University_Pavia_BSDA_RecNet.ipynb\" target=\"_parent\"><img src=\"https://colab.research.google.com/assets/colab-badge.svg\" alt=\"Open In Colab\"/></a>"
      ]
    },
    {
      "cell_type": "code",
      "metadata": {
        "colab_type": "code",
        "id": "i-WGRlA3KyxB",
        "colab": {}
      },
      "source": [
        "import keras\n",
        "from keras import regularizers\n",
        "from keras.layers import Conv2D, Conv3D, Flatten, Dense, Reshape, BatchNormalization, ReLU, PReLU, MaxPool3D, Conv3DTranspose\n",
        "from keras.layers import Dropout, Input, GlobalAveragePooling2D, multiply, add, Activation, Permute, merge\n",
        "from keras.models import Model, Sequential\n",
        "from keras.optimizers import Adam\n",
        "from keras.callbacks import ModelCheckpoint\n",
        "from keras.utils import np_utils\n",
        "from keras.regularizers import l2\n",
        "from keras import backend as K\n",
        "import tensorflow as tf\n",
        "from keras.layers import Layer\n",
        "\n",
        "from sklearn.decomposition import PCA\n",
        "from sklearn.model_selection import train_test_split\n",
        "from sklearn.metrics import confusion_matrix, accuracy_score, classification_report, cohen_kappa_score\n",
        "\n",
        "from operator import truediv\n",
        "\n",
        "# from plotly.offline import init_notebook_mode\n",
        "import numpy as np\n",
        "import matplotlib.pyplot as plt\n",
        "import scipy.io as sio\n",
        "import os\n",
        "# import spectral\n",
        "\n",
        "# init_notebook_mode(connected=True)\n",
        "%matplotlib inline\n",
        "# %tensorflow_version 1.x"
      ],
      "execution_count": 0,
      "outputs": []
    },
    {
      "cell_type": "code",
      "metadata": {
        "colab_type": "code",
        "id": "D7_l6NRBKyxH",
        "outputId": "64fe8955-bbb8-4074-b019-d17b84498767",
        "colab": {
          "base_uri": "https://localhost:8080/",
          "height": 52
        }
      },
      "source": [
        "!pip install -U spectral\n",
        "if not (os.path.isfile('/content/PaviaU.mat')):\n",
        "  !wget http://www.ehu.eus/ccwintco/uploads/e/ee/PaviaU.mat\n",
        "if not (os.path.isfile('/content/PaviaU_gt.mat')):\n",
        "  !wget http://www.ehu.eus/ccwintco/uploads/5/50/PaviaU_gt.mat"
      ],
      "execution_count": 40,
      "outputs": [
        {
          "output_type": "stream",
          "text": [
            "Requirement already up-to-date: spectral in /usr/local/lib/python3.6/dist-packages (0.20)\n",
            "Requirement already satisfied, skipping upgrade: numpy in /usr/local/lib/python3.6/dist-packages (from spectral) (1.17.5)\n"
          ],
          "name": "stdout"
        }
      ]
    },
    {
      "cell_type": "code",
      "metadata": {
        "colab_type": "code",
        "id": "ayKszFCcKyxJ",
        "colab": {}
      },
      "source": [
        "def loadData():\n",
        "    \n",
        "    data = sio.loadmat('PaviaU.mat')['paviaU']\n",
        "    labels = sio.loadmat('PaviaU_gt.mat')['paviaU_gt']\n",
        "    \n",
        "    return data, labels"
      ],
      "execution_count": 0,
      "outputs": []
    },
    {
      "cell_type": "code",
      "metadata": {
        "colab_type": "code",
        "id": "Zyw923t1KyxM",
        "colab": {}
      },
      "source": [
        "def padWithZeros(X, margin=2):\n",
        "    newX = np.zeros((X.shape[0] + 2 * margin, X.shape[1] + 2* margin, X.shape[2]))\n",
        "    x_offset = margin\n",
        "    y_offset = margin\n",
        "    newX[x_offset:X.shape[0] + x_offset, y_offset:X.shape[1] + y_offset, :] = X\n",
        "    return newX"
      ],
      "execution_count": 0,
      "outputs": []
    },
    {
      "cell_type": "code",
      "metadata": {
        "colab_type": "code",
        "id": "j-pUBs9hKyxO",
        "colab": {}
      },
      "source": [
        "def createImageCubes(X, y, windowSize=5, removeZeroLabels = True):\n",
        "    margin = int((windowSize - 1) / 2)\n",
        "    zeroPaddedX = padWithZeros(X, margin=margin)\n",
        "    # split patches\n",
        "    patchesData = np.zeros((X.shape[0] * X.shape[1], windowSize, windowSize, X.shape[2]))\n",
        "    patchesLabels = np.zeros((X.shape[0] * X.shape[1]))\n",
        "    patchIndex = 0\n",
        "    for r in range(margin, zeroPaddedX.shape[0] - margin):\n",
        "        for c in range(margin, zeroPaddedX.shape[1] - margin):\n",
        "            patch = zeroPaddedX[r - margin:r + margin + 1, c - margin:c + margin + 1]   \n",
        "            patchesData[patchIndex, :, :, :] = patch\n",
        "            patchesLabels[patchIndex] = y[r-margin, c-margin]\n",
        "            patchIndex = patchIndex + 1\n",
        "    if removeZeroLabels:\n",
        "        patchesData = patchesData[patchesLabels>0,:,:,:]\n",
        "        patchesLabels = patchesLabels[patchesLabels>0]\n",
        "        patchesLabels -= 1\n",
        "    return patchesData, patchesLabels"
      ],
      "execution_count": 0,
      "outputs": []
    },
    {
      "cell_type": "code",
      "metadata": {
        "colab_type": "code",
        "id": "0qgTzXVKKyxQ",
        "colab": {}
      },
      "source": [
        "X, y = loadData()"
      ],
      "execution_count": 0,
      "outputs": []
    },
    {
      "cell_type": "code",
      "metadata": {
        "colab_type": "code",
        "id": "8Fdu_Qsz7MZN",
        "outputId": "d81b9d8d-80f3-45d9-e7e1-7fc0b8d44a51",
        "colab": {
          "base_uri": "https://localhost:8080/",
          "height": 52
        }
      },
      "source": [
        "print(X.shape)\n",
        "print(y.shape)"
      ],
      "execution_count": 45,
      "outputs": [
        {
          "output_type": "stream",
          "text": [
            "(610, 340, 103)\n",
            "(610, 340)\n"
          ],
          "name": "stdout"
        }
      ]
    },
    {
      "cell_type": "code",
      "metadata": {
        "colab_type": "code",
        "id": "wPbCGwgrKyxT",
        "outputId": "d419acb5-820c-4b29-b1ba-dd291837c8c7",
        "colab": {
          "base_uri": "https://localhost:8080/",
          "height": 34
        }
      },
      "source": [
        "X, y = createImageCubes(X, y, 5)\n",
        "\n",
        "X.shape, y.shape"
      ],
      "execution_count": 46,
      "outputs": [
        {
          "output_type": "execute_result",
          "data": {
            "text/plain": [
              "((42776, 5, 5, 103), (42776,))"
            ]
          },
          "metadata": {
            "tags": []
          },
          "execution_count": 46
        }
      ]
    },
    {
      "cell_type": "code",
      "metadata": {
        "id": "weoj9D0z4wzT",
        "colab_type": "code",
        "colab": {}
      },
      "source": [
        ""
      ],
      "execution_count": 0,
      "outputs": []
    },
    {
      "cell_type": "markdown",
      "metadata": {
        "colab_type": "text",
        "id": "CmInivJsKyxW"
      },
      "source": [
        "# Model and Training"
      ]
    },
    {
      "cell_type": "code",
      "metadata": {
        "colab_type": "code",
        "id": "uMnbZ0zj5hdJ",
        "colab": {}
      },
      "source": [
        "def BAM():\n",
        "    model = Sequential()\n",
        "    model.add(Conv2D(filters=64,\n",
        "                     input_shape=(5, 5, 103),\n",
        "                     kernel_size=(3,3),\n",
        "                     strides=1,\n",
        "                     padding='valid', name=\"Conv1\"))\n",
        "    model.add(ReLU(name=\"ReLU1\"))\n",
        "    model.add(GlobalAveragePooling2D(data_format=\"channels_first\"))\n",
        "    \n",
        "    model.add(Dense(128))\n",
        "    model.add(ReLU(name=\"ReLU2\"))\n",
        "    model.add(Dense(103, activation=\"sigmoid\"))\n",
        "  \n",
        "    return model"
      ],
      "execution_count": 0,
      "outputs": []
    },
    {
      "cell_type": "code",
      "metadata": {
        "colab_type": "code",
        "id": "dvQBnOxVKyxZ",
        "colab": {}
      },
      "source": [
        "def DCAE(weight_decay=0.0005):\n",
        "    model = Sequential()\n",
        "    model.add(Conv3D(filters=24,\n",
        "                     input_shape=(103, 5, 5, 1),\n",
        "                     kernel_size=(24, 3, 3),\n",
        "                     strides=(1, 1, 1),\n",
        "                     kernel_regularizer=regularizers.l2(l=weight_decay),\n",
        "                     padding='valid', name=\"Conv1\"))  \n",
        "    model.add(BatchNormalization(name=\"BN1\"))\n",
        "    model.add(PReLU(name=\"PReLU1\"))\n",
        "\n",
        "    model.add(Conv3D(filters=48,\n",
        "                     kernel_size=(24, 3, 3),  \n",
        "                     strides=(1, 1, 1),\n",
        "                     kernel_regularizer=regularizers.l2(l=weight_decay),\n",
        "                     padding='valid', name=\"Conv2\"))  \n",
        "    model.add(BatchNormalization(name=\"BN2\"))\n",
        "    model.add(PReLU(name=\"PReLU2\"))\n",
        "\n",
        "    model.add(MaxPool3D(pool_size=(18, 1, 1),\n",
        "                        strides=(18, 1, 1), name=\"Pool1\"))\n",
        "\n",
        "    model.add(Conv3DTranspose(filters=24,\n",
        "                              kernel_size=(32, 3, 3), #(9,3,3),\n",
        "                              kernel_regularizer=regularizers.l2(\n",
        "                                  l=weight_decay),\n",
        "                              strides=(22, 1, 1), name=\"Deconv1\", padding='valid'))\n",
        "    model.add(BatchNormalization(name=\"BN3\"))\n",
        "    model.add(PReLU(name=\"PReLU3\"))\n",
        "    model.add(Conv3DTranspose(filters=1,\n",
        "                              kernel_size=(28, 3, 3),\n",
        "                              kernel_regularizer=regularizers.l2(\n",
        "                                  l=weight_decay),\n",
        "                              strides=(1, 1, 1), name=\"Deconv2\", padding='valid'))\n",
        "    model.add(BatchNormalization(name=\"BN4\"))\n",
        "    \n",
        "    return model"
      ],
      "execution_count": 0,
      "outputs": []
    },
    {
      "cell_type": "code",
      "metadata": {
        "colab_type": "code",
        "id": "fPtnuhhpDAC8",
        "colab": {}
      },
      "source": [
        "def Ensemble():\n",
        "    input_layer = Input((5, 5, 103))\n",
        "    band_activations = BAM()(input_layer)\n",
        "    # band_activations = Reshape((200, 1, 1))(band_activations)\n",
        "    \n",
        "    bam_output = multiply([band_activations, input_layer])\n",
        "    \n",
        "    bam_output = Reshape((103, 5, 5, 1))(bam_output)\n",
        "    # da_output = DA()(input_layer)\n",
        "    # da_output = Permute((3,1,2), input_shape=(11,11,200))(da_output)\n",
        "    # da_output = Reshape((200, 11, 11, 1))(da_output)\n",
        "    output = DCAE()(bam_output)\n",
        "    \n",
        "    \n",
        "    return Model(inputs=input_layer, outputs=output)\n",
        "    "
      ],
      "execution_count": 0,
      "outputs": []
    },
    {
      "cell_type": "code",
      "metadata": {
        "colab_type": "code",
        "id": "CdiDxfoAKyxb",
        "outputId": "299197c7-bb0a-4120-c0ed-673e2b72a027",
        "colab": {
          "base_uri": "https://localhost:8080/",
          "height": 347
        }
      },
      "source": [
        "# model = DCAE(weight_decay=0.0005)\n",
        "model = Ensemble()\n",
        "model.summary()"
      ],
      "execution_count": 89,
      "outputs": [
        {
          "output_type": "stream",
          "text": [
            "Model: \"model_13\"\n",
            "__________________________________________________________________________________________________\n",
            "Layer (type)                    Output Shape         Param #     Connected to                     \n",
            "==================================================================================================\n",
            "input_13 (InputLayer)           (None, 5, 5, 103)    0                                            \n",
            "__________________________________________________________________________________________________\n",
            "sequential_25 (Sequential)      (None, 103)          73191       input_13[0][0]                   \n",
            "__________________________________________________________________________________________________\n",
            "multiply_13 (Multiply)          (None, 5, 5, 103)    0           sequential_25[1][0]              \n",
            "                                                                 input_13[0][0]                   \n",
            "__________________________________________________________________________________________________\n",
            "reshape_13 (Reshape)            (None, 103, 5, 5, 1) 0           multiply_13[0][0]                \n",
            "__________________________________________________________________________________________________\n",
            "sequential_26 (Sequential)      (None, 103, 5, 5, 1) 628757      reshape_13[0][0]                 \n",
            "==================================================================================================\n",
            "Total params: 701,948\n",
            "Trainable params: 701,754\n",
            "Non-trainable params: 194\n",
            "__________________________________________________________________________________________________\n"
          ],
          "name": "stdout"
        }
      ]
    },
    {
      "cell_type": "code",
      "metadata": {
        "colab_type": "code",
        "id": "gZ9vjeqYKyxg",
        "colab": {}
      },
      "source": [
        "def psnr(x_true, x_pred):\n",
        "    n_samples = x_true.shape[0]\n",
        "    n_bands = x_true.shape[1]\n",
        "    PSNR = np.zeros(n_bands)\n",
        "    MSE = np.zeros(n_bands)\n",
        "    mask = np.ones(n_bands)\n",
        "    for k in range(n_bands):\n",
        "        x_true_k = x_true[:, k].reshape([-1])\n",
        "        x_pred_k = x_pred[:, k].reshape([-1])\n",
        "        MSE[k] = 1.0 / n_samples * mean_squared_error(x_true_k, x_pred_k, )\n",
        "        MAX_k = np.max(x_true_k)\n",
        "        if MAX_k != 0:\n",
        "            PSNR[k] = 10 * math.log10(math.pow(MAX_k, 2) / MSE[k])\n",
        "        else:\n",
        "            mask[k] = 0\n",
        "\n",
        "    psnr = PSNR.sum()/mask.sum()\n",
        "    mse = MSE.mean()\n",
        "    print('psnr', psnr)\n",
        "    print('mse', mse)\n",
        "    \n",
        "    return psnr, mse"
      ],
      "execution_count": 0,
      "outputs": []
    },
    {
      "cell_type": "code",
      "metadata": {
        "colab_type": "code",
        "id": "UxjZ9mdUblcy",
        "colab": {}
      },
      "source": [
        "import scipy\n",
        "from scipy.special import kl_div\n",
        "def Dskl(Bi,Bj):\n",
        "  \n",
        "  \n",
        "  pk = np.histogramdd(np.ravel(Bi), bins = 256)[0]/Bi.size \n",
        "  #pk = list(filter(lambda p: p > 0, pk))\n",
        "  pk = np.array(pk)\n",
        "\n",
        "  qk = np.histogramdd(np.ravel(Bj), bins = 256)[0]/Bj.size\n",
        "  #qk = list(filter(lambda p: p > 0, qk)\n",
        "  qk = np.array(qk)\n",
        "  \n",
        "  \n",
        "  S = kl_div(pk,qk) + kl_div(qk,pk)\n",
        "  \n",
        "  #S = np.sum(pk * np.log2(pk / qk), axis=0) + np.sum(qk * np.log2(qk / pk), axis=0)\n",
        "  \n",
        "  return S"
      ],
      "execution_count": 0,
      "outputs": []
    },
    {
      "cell_type": "code",
      "metadata": {
        "id": "GG4t0Q7LxdUi",
        "colab_type": "code",
        "colab": {}
      },
      "source": [
        "import matplotlib.pyplot as plt\n",
        "%matplotlib inline"
      ],
      "execution_count": 0,
      "outputs": []
    },
    {
      "cell_type": "code",
      "metadata": {
        "colab_type": "code",
        "id": "-Lt3ejW8OkA3",
        "colab": {}
      },
      "source": [
        "ENTROPY = np.zeros(103)\n",
        "import skimage.measure\n",
        "def topkbands(x_predict, topk):\n",
        "  for i in range(0,len(ENTROPY)):\n",
        "    ENTROPY[i]+=skimage.measure.shannon_entropy(x_predict[:,i,:,:])\n",
        "  \n",
        "  print('Top k bands with Entropy ->',ENTROPY.argsort()[-topk:][::-1])"
      ],
      "execution_count": 0,
      "outputs": []
    },
    {
      "cell_type": "code",
      "metadata": {
        "colab_type": "code",
        "id": "Y4bEPCGGYyP0",
        "colab": {}
      },
      "source": [
        "def MSD(x_predict, topk):\n",
        "  top = ENTROPY.argsort()[-topk:][::-1]\n",
        "  perbatch = list(0 for i in range(0,160))\n",
        "  for batch_idx in range(0,len(perbatch)):\n",
        "    for i in range(0,len(top)):\n",
        "      for j in range(0,i):\n",
        "        perbatch[batch_idx]+=Dskl(x_predict[:,top[i],:,:],x_predict[:,top[j],:,:])\n",
        "  perbatch = np.array(perbatch)\n",
        "  perbatch[perbatch>=1E03]=0\n",
        "  print('Mean of MSD with Top k bands is \\n',np.mean(perbatch)*100)"
      ],
      "execution_count": 0,
      "outputs": []
    },
    {
      "cell_type": "code",
      "metadata": {
        "id": "IXzqZf5JxSv6",
        "colab_type": "code",
        "colab": {}
      },
      "source": [
        "def plott(ENTROPY):\n",
        "  fig = plt.figure(figsize=(40,4))\n",
        "  ax1 = fig.add_subplot(121)\n",
        "  ax1.plot(ENTROPY)\n",
        "\n"
      ],
      "execution_count": 0,
      "outputs": []
    },
    {
      "cell_type": "code",
      "metadata": {
        "id": "2gO3vGwMf0Zr",
        "colab_type": "code",
        "colab": {}
      },
      "source": [
        "ENTROPY = np.zeros(103)\n",
        "import skimage.measure\n",
        "def output_entropy(x_predict):\n",
        "  for i in range(0,len(ENTROPY)):\n",
        "    ENTROPY[i]+=skimage.measure.shannon_entropy(x_predict[:,i,:,:])\n",
        "  plott(ENTROPY)\n",
        "  "
      ],
      "execution_count": 0,
      "outputs": []
    },
    {
      "cell_type": "code",
      "metadata": {
        "colab_type": "code",
        "id": "2x0UcifSKyxj",
        "colab": {}
      },
      "source": [
        "from keras.callbacks import Callback\n",
        "from sklearn.metrics import mean_squared_error\n",
        "import math\n",
        "\n",
        "class MyLogger(Callback):\n",
        "    def on_epoch_end(self, epoch, logs=None):\n",
        "      x_predict = model.predict(X)\n",
        "      x_true = np.asarray(X)\n",
        "      x_pred_centre = x_predict[:, :, 2, 2]\n",
        "      x_true_centre = x_true[:, :, 2, 2]\n",
        "      psnr(x_true_centre, x_pred_centre)\n",
        "      topkbands(x_predict, 15)\n",
        "    def on_train_end(self,logs=None):\n",
        "      x_predict = model.predict(X)\n",
        "      output_entropy(x_predict)\n",
        "      #MSD(x_predict, 15)"
      ],
      "execution_count": 0,
      "outputs": []
    },
    {
      "cell_type": "code",
      "metadata": {
        "colab_type": "code",
        "id": "bJYuFFA6Kyxl",
        "outputId": "a726e72d-07e5-419d-f226-8d8fe81b7043",
        "colab": {
          "base_uri": "https://localhost:8080/",
          "height": 1000
        }
      },
      "source": [
        "model.compile(loss=keras.losses.mse, optimizer=keras.optimizers.Adam(lr=0.1))\n",
        "\n",
        "n_epoch = 50\n",
        "\n",
        "model.fit(X, X.reshape(-1, 103, 5, 5, 1), epochs=n_epoch, shuffle=True, verbose=1, batch_size=256, callbacks=[MyLogger()])"
      ],
      "execution_count": 98,
      "outputs": [
        {
          "output_type": "stream",
          "text": [
            "WARNING:tensorflow:From /usr/local/lib/python3.6/dist-packages/keras/backend/tensorflow_backend.py:1033: The name tf.assign_add is deprecated. Please use tf.compat.v1.assign_add instead.\n",
            "\n",
            "WARNING:tensorflow:From /usr/local/lib/python3.6/dist-packages/keras/backend/tensorflow_backend.py:1020: The name tf.assign is deprecated. Please use tf.compat.v1.assign instead.\n",
            "\n",
            "WARNING:tensorflow:From /usr/local/lib/python3.6/dist-packages/keras/backend/tensorflow_backend.py:3005: The name tf.Session is deprecated. Please use tf.compat.v1.Session instead.\n",
            "\n",
            "Epoch 1/50\n",
            "WARNING:tensorflow:From /usr/local/lib/python3.6/dist-packages/keras/backend/tensorflow_backend.py:190: The name tf.get_default_session is deprecated. Please use tf.compat.v1.get_default_session instead.\n",
            "\n",
            "WARNING:tensorflow:From /usr/local/lib/python3.6/dist-packages/keras/backend/tensorflow_backend.py:197: The name tf.ConfigProto is deprecated. Please use tf.compat.v1.ConfigProto instead.\n",
            "\n",
            "WARNING:tensorflow:From /usr/local/lib/python3.6/dist-packages/keras/backend/tensorflow_backend.py:207: The name tf.global_variables is deprecated. Please use tf.compat.v1.global_variables instead.\n",
            "\n",
            "WARNING:tensorflow:From /usr/local/lib/python3.6/dist-packages/keras/backend/tensorflow_backend.py:216: The name tf.is_variable_initialized is deprecated. Please use tf.compat.v1.is_variable_initialized instead.\n",
            "\n",
            "WARNING:tensorflow:From /usr/local/lib/python3.6/dist-packages/keras/backend/tensorflow_backend.py:223: The name tf.variables_initializer is deprecated. Please use tf.compat.v1.variables_initializer instead.\n",
            "\n",
            "42776/42776 [==============================] - 28s 643us/step - loss: 2775977.4756\n",
            "psnr 61.49867625590755\n",
            "mse 22.162991714449596\n",
            "Top k bands with Entropy -> [27 31 76 10 43 14 68 39  6 35 80 18 64 22 72]\n",
            "Epoch 2/50\n",
            "42776/42776 [==============================] - 9s 221us/step - loss: 2695264.1163\n",
            "psnr 61.66898614748319\n",
            "mse 21.315502108019142\n",
            "Top k bands with Entropy -> [ 10  14  92  80  43  76  96  26  22  47  55  51  88 100   6]\n",
            "Epoch 3/50\n",
            "42776/42776 [==============================] - 9s 220us/step - loss: 2618955.9455\n",
            "psnr 61.84242506120355\n",
            "mse 20.49564857427378\n",
            "Top k bands with Entropy -> [ 92  10  47  88  84  14  80  96  22  55  51  26  43 100  76]\n",
            "Epoch 4/50\n",
            "42776/42776 [==============================] - 9s 220us/step - loss: 2545016.1601\n",
            "psnr 61.89642206914457\n",
            "mse 20.267972855057412\n",
            "Top k bands with Entropy -> [ 10  92  84  22  14  47  51  88  55  26  96  80  43 100  63]\n",
            "Epoch 5/50\n",
            "42776/42776 [==============================] - 9s 220us/step - loss: 2473070.6231\n",
            "psnr 62.15668526799338\n",
            "mse 19.083564409718974\n",
            "Top k bands with Entropy -> [10 84 14 92 55 51 88 47 80 22 26 96 63 59 12]\n",
            "Epoch 6/50\n",
            "42776/42776 [==============================] - 9s 220us/step - loss: 2403057.9742\n",
            "psnr 62.458616697848996\n",
            "mse 17.804078976176474\n",
            "Top k bands with Entropy -> [84 92 88 55 14 10 51 80 47 96 26 63 22 59 30]\n",
            "Epoch 7/50\n",
            "42776/42776 [==============================] - 9s 222us/step - loss: 2334480.7340\n",
            "psnr 62.40754630129696\n",
            "mse 18.018051595918074\n",
            "Top k bands with Entropy -> [84 92 88 55 51 14 47 10 96 22 63 80 26 59 67]\n",
            "Epoch 8/50\n",
            "42776/42776 [==============================] - 9s 220us/step - loss: 2267395.5878\n",
            "psnr 62.40177522915521\n",
            "mse 18.05823184958964\n",
            "Top k bands with Entropy -> [84 92 88 55 51 14 47 63 22 10 96 26 59 80 67]\n",
            "Epoch 9/50\n",
            "42776/42776 [==============================] - 9s 219us/step - loss: 2201909.3487\n",
            "psnr 62.54618941356209\n",
            "mse 17.48934936780272\n",
            "Top k bands with Entropy -> [84 88 55 63 22 92 14 47 51 26 96 10 67 59 18]\n",
            "Epoch 10/50\n",
            "42776/42776 [==============================] - 9s 220us/step - loss: 2137819.3833\n",
            "psnr 62.9667938883954\n",
            "mse 15.869711599284022\n",
            "Top k bands with Entropy -> [ 84  88  55  63  92  22  96  47  67  51  59  26  14  79 100]\n",
            "Epoch 11/50\n",
            "42776/42776 [==============================] - 9s 220us/step - loss: 2074957.9160\n",
            "psnr 63.185848254459835\n",
            "mse 15.089321230369595\n",
            "Top k bands with Entropy -> [84 88 92 63 55 96 22 47 51 79 67 59 26 14 12]\n",
            "Epoch 12/50\n",
            "42776/42776 [==============================] - 9s 220us/step - loss: 2013508.7747\n",
            "psnr 63.12011453769509\n",
            "mse 15.34988912569247\n",
            "Top k bands with Entropy -> [84 88 63 92 22 55 96 79 47 26 67 51 45 12 14]\n",
            "Epoch 13/50\n",
            "42776/42776 [==============================] - 9s 219us/step - loss: 1953367.2245\n",
            "psnr 63.00943108643279\n",
            "mse 15.718379448724383\n",
            "Top k bands with Entropy -> [ 84  88  63  22  92  79  96  55  67  26  45  47  51  12 100]\n",
            "Epoch 14/50\n",
            "42776/42776 [==============================] - 9s 221us/step - loss: 1894544.6583\n",
            "psnr 63.255706514496026\n",
            "mse 14.84052710476386\n",
            "Top k bands with Entropy -> [ 84  88  63  92  22  96  79  55  67  26  45  47  12 100  51]\n",
            "Epoch 15/50\n",
            "42776/42776 [==============================] - 9s 219us/step - loss: 1836741.7859\n",
            "psnr 63.32898991986916\n",
            "mse 14.672451688121267\n",
            "Top k bands with Entropy -> [ 84  88  63  22  92  96  55  79  26  67  47  59  45  12 100]\n",
            "Epoch 16/50\n",
            "42776/42776 [==============================] - 9s 220us/step - loss: 1780211.1861\n",
            "psnr 63.97699325141555\n",
            "mse 12.602437197582189\n",
            "Top k bands with Entropy -> [ 84  88  63  22  92  96  55  79  67  26 100  12  59  45  47]\n",
            "Epoch 17/50\n",
            "42776/42776 [==============================] - 9s 220us/step - loss: 1724890.3929\n",
            "psnr 63.58674922123288\n",
            "mse 13.79832171103167\n",
            "Top k bands with Entropy -> [ 84  88  63  22  92  96  55  79  67  26  59 100  47  14  45]\n",
            "Epoch 18/50\n",
            "42776/42776 [==============================] - 9s 221us/step - loss: 1670568.1432\n",
            "psnr 63.56647531420157\n",
            "mse 13.799253032121928\n",
            "Top k bands with Entropy -> [ 84  88  63  22  92  96  79  55  67  26  59 100  47  14  83]\n",
            "Epoch 19/50\n",
            "42776/42776 [==============================] - 9s 218us/step - loss: 1617534.5132\n",
            "psnr 64.03461763285833\n",
            "mse 12.382310607721875\n",
            "Top k bands with Entropy -> [ 84  88  63  22  92  96  55  67  79  26  59 100  47  14  51]\n",
            "Epoch 20/50\n",
            "42776/42776 [==============================] - 9s 218us/step - loss: 1565454.0197\n",
            "psnr 64.0601099116071\n",
            "mse 12.337700696358294\n",
            "Top k bands with Entropy -> [ 84  88  63  22  92  96  79  67  55 100  59  26  47  83  51]\n",
            "Epoch 21/50\n",
            "42776/42776 [==============================] - 9s 218us/step - loss: 1514499.0578\n",
            "psnr 64.08764432853967\n",
            "mse 12.238109493214548\n",
            "Top k bands with Entropy -> [ 84  88  63  22  92  96  79  67  55 100  59  26  47  83  12]\n",
            "Epoch 22/50\n",
            "42776/42776 [==============================] - 9s 217us/step - loss: 1464623.3612\n",
            "psnr 63.94734279169984\n",
            "mse 12.631874159459798\n",
            "Top k bands with Entropy -> [ 84  88  63  22  92  96  79  67  55 100  26  59  47  83  12]\n",
            "Epoch 23/50\n",
            "42776/42776 [==============================] - 9s 217us/step - loss: 1416004.1099\n",
            "psnr 64.26875722442439\n",
            "mse 11.745557622053909\n",
            "Top k bands with Entropy -> [ 84  88  63  22  92  96  79  67  55 100  83  26  59  47  12]\n",
            "Epoch 24/50\n",
            "42776/42776 [==============================] - 9s 218us/step - loss: 1368315.1531\n",
            "psnr 64.31341883924787\n",
            "mse 11.621533351282002\n",
            "Top k bands with Entropy -> [ 84  88  63  22  92  79  96  67  83  55 100  26  59  47  12]\n",
            "Epoch 25/50\n",
            "42776/42776 [==============================] - 9s 218us/step - loss: 1321546.1169\n",
            "psnr 64.54327039563792\n",
            "mse 11.041419000632509\n",
            "Top k bands with Entropy -> [ 84  88  63  22  92  79  96  67  83 100  55  59  26  12  47]\n",
            "Epoch 26/50\n",
            "42776/42776 [==============================] - 9s 217us/step - loss: 1276092.1379\n",
            "psnr 64.72478330514961\n",
            "mse 10.62962958187662\n",
            "Top k bands with Entropy -> [ 84  88  63  22  92  79  96  67  83 100  55  12  26  59  45]\n",
            "Epoch 27/50\n",
            "42776/42776 [==============================] - 9s 217us/step - loss: 1231403.4975\n",
            "psnr 64.46019605646816\n",
            "mse 11.282478920851316\n",
            "Top k bands with Entropy -> [ 84  88  63  22  92  79  96  83  67  55 100  12  26  45  59]\n",
            "Epoch 28/50\n",
            "42776/42776 [==============================] - 9s 219us/step - loss: 1187744.4742\n",
            "psnr 64.44432522028117\n",
            "mse 11.363273914439855\n",
            "Top k bands with Entropy -> [ 84  88  63  22  92  79  96  83  67 100  55  12  45  26  59]\n",
            "Epoch 29/50\n",
            "42776/42776 [==============================] - 9s 218us/step - loss: 1144816.9727\n",
            "psnr 64.4379952997139\n",
            "mse 11.464834760315146\n",
            "Top k bands with Entropy -> [ 84  88  63  22  92  79  96  83  67 100  55  12  45  26  59]\n",
            "Epoch 30/50\n",
            "42776/42776 [==============================] - 9s 218us/step - loss: 1103540.2210\n",
            "psnr 64.30880242937242\n",
            "mse 11.85817323546133\n",
            "Top k bands with Entropy -> [ 84  88  63  22  92  79  83  96  67 100  55  26  12  45  59]\n",
            "Epoch 31/50\n",
            "42776/42776 [==============================] - 9s 220us/step - loss: 1062674.9006\n",
            "psnr 64.59006448346305\n",
            "mse 11.032107404740575\n",
            "Top k bands with Entropy -> [ 84  88  63  22  92  79  83  96  67 100  55  26  45  12  87]\n",
            "Epoch 32/50\n",
            "42776/42776 [==============================] - 9s 218us/step - loss: 1023022.5095\n",
            "psnr 64.63656707710662\n",
            "mse 10.986111899617338\n",
            "Top k bands with Entropy -> [ 84  88  63  22  92  79  83  96  67 100  55  26  45  87  12]\n",
            "Epoch 33/50\n",
            "42776/42776 [==============================] - 9s 217us/step - loss: 984333.5300\n",
            "psnr 64.94048810167513\n",
            "mse 10.301615697852677\n",
            "Top k bands with Entropy -> [ 84  88  63  22  92  79  83  96  67 100  26  55  87  45  75]\n",
            "Epoch 34/50\n",
            "42776/42776 [==============================] - 9s 217us/step - loss: 946498.8653\n",
            "psnr 64.45594610812716\n",
            "mse 11.569164378011674\n",
            "Top k bands with Entropy -> [ 84  63  88  22  92  79  83  96  67 100  26  55  87  45  13]\n",
            "Epoch 35/50\n",
            "42776/42776 [==============================] - 9s 219us/step - loss: 909822.6527\n",
            "psnr 64.534447199612\n",
            "mse 11.405044990393419\n",
            "Top k bands with Entropy -> [ 84  63  88  22  92  79  83  96  67 100  26  55  87  45  13]\n",
            "Epoch 36/50\n",
            "42776/42776 [==============================] - 9s 218us/step - loss: 873677.1590\n",
            "psnr 64.8843214332002\n",
            "mse 10.610462775441922\n",
            "Top k bands with Entropy -> [ 84  63  88  22  92  79  83  96  67 100  26  55  75  87  13]\n",
            "Epoch 37/50\n",
            "42776/42776 [==============================] - 9s 218us/step - loss: 838919.5553\n",
            "psnr 64.63075948742869\n",
            "mse 11.319332649344506\n",
            "Top k bands with Entropy -> [ 84  63  88  22  92  79  83  96  67 100  26  55  87  75  59]\n",
            "Epoch 38/50\n",
            "42776/42776 [==============================] - 9s 219us/step - loss: 805182.3569\n",
            "psnr 65.10868481144453\n",
            "mse 10.34509572887372\n",
            "Top k bands with Entropy -> [ 84  63  88  22  92  79  83  96  67 100  26  55  75  87  59]\n",
            "Epoch 39/50\n",
            "42776/42776 [==============================] - 9s 217us/step - loss: 771945.7321\n",
            "psnr 64.68290270849863\n",
            "mse 11.251089808253248\n",
            "Top k bands with Entropy -> [ 84  63  88  22  79  83  92  96  67 100  26  87  75  55  13]\n",
            "Epoch 40/50\n",
            "42776/42776 [==============================] - 9s 218us/step - loss: 739685.2734\n",
            "psnr 65.08033969591675\n",
            "mse 10.611237472181518\n",
            "Top k bands with Entropy -> [ 84  63  88  22  83  79  92  96  67 100  26  87  75  45  13]\n",
            "Epoch 41/50\n",
            "42776/42776 [==============================] - 9s 217us/step - loss: 708530.6431\n",
            "psnr 65.0760955463721\n",
            "mse 10.827154003669026\n",
            "Top k bands with Entropy -> [ 84  63  88  83  22  79  92  96  67 100  87  26  45  75  13]\n",
            "Epoch 42/50\n",
            "42776/42776 [==============================] - 9s 218us/step - loss: 678139.4131\n",
            "psnr 65.46034527949077\n",
            "mse 11.085859547320444\n",
            "Top k bands with Entropy -> [ 84  63  88  83  79  22  92  96  67 100  87  45  26  75  13]\n",
            "Epoch 43/50\n",
            "42776/42776 [==============================] - 9s 217us/step - loss: 648512.2600\n",
            "psnr 65.10788567152898\n",
            "mse 11.118060038340912\n",
            "Top k bands with Entropy -> [ 84  63  88  83  79  22  92  96 100  67  87  45  26  75  12]\n",
            "Epoch 44/50\n",
            "42776/42776 [==============================] - 9s 219us/step - loss: 620004.4421\n",
            "psnr 65.63869278702182\n",
            "mse 9.888505485525858\n",
            "Top k bands with Entropy -> [ 84  63  88  83  79  22  92  96  67  87 100  45  75  12  26]\n",
            "Epoch 45/50\n",
            "42776/42776 [==============================] - 9s 219us/step - loss: 591950.3202\n",
            "psnr 66.12466946004352\n",
            "mse 9.9404908177756\n",
            "Top k bands with Entropy -> [ 84  63  88  83  79  22  92  96  45  87 100  12  67  75  26]\n",
            "Epoch 46/50\n",
            "42776/42776 [==============================] - 9s 220us/step - loss: 565399.1821\n",
            "psnr 65.32006243532257\n",
            "mse 10.821882723259312\n",
            "Top k bands with Entropy -> [ 84  63  83  88  79  22  92  45  96  87 100  12  67  75  26]\n",
            "Epoch 47/50\n",
            "42776/42776 [==============================] - 9s 218us/step - loss: 539311.2263\n",
            "psnr 65.148943699306\n",
            "mse 11.37865660859123\n",
            "Top k bands with Entropy -> [ 84  63  83  88  79  22  92  45  87  12  96 100  67  75  78]\n",
            "Epoch 48/50\n",
            "42776/42776 [==============================] - 9s 218us/step - loss: 514168.9709\n",
            "psnr 65.47412684928933\n",
            "mse 11.244666217681308\n",
            "Top k bands with Entropy -> [ 84  63  83  88  79  22  92  45  87  12  96 100  75  67  78]\n",
            "Epoch 49/50\n",
            "42776/42776 [==============================] - 9s 218us/step - loss: 489873.5493\n",
            "psnr 64.91573942606395\n",
            "mse 13.062396981661681\n",
            "Top k bands with Entropy -> [ 84  83  63  88  79  22  45  92  87  12  96  78 100  75  67]\n",
            "Epoch 50/50\n",
            "42776/42776 [==============================] - 9s 219us/step - loss: 466301.6406\n",
            "psnr 65.29529484246243\n",
            "mse 11.591415208636565\n",
            "Top k bands with Entropy -> [ 84  83  63  79  88  22  45  12  87  92  78  96 100  67  75]\n"
          ],
          "name": "stdout"
        },
        {
          "output_type": "execute_result",
          "data": {
            "text/plain": [
              "<keras.callbacks.History at 0x7f90262a8eb8>"
            ]
          },
          "metadata": {
            "tags": []
          },
          "execution_count": 98
        },
        {
          "output_type": "display_data",
          "data": {
            "image/png": "[encoded data removed]",
            "text/plain": [
              "<Figure size 2880x288 with 1 Axes>"
            ]
          },
          "metadata": {
            "tags": []
          }
        }
      ]
    },
    {
      "cell_type": "code",
      "metadata": {
        "id": "nIqFic1ujcNh",
        "colab_type": "code",
        "colab": {}
      },
      "source": [
        ""
      ],
      "execution_count": 0,
      "outputs": []
    },
    {
      "cell_type": "code",
      "metadata": {
        "id": "vAyIANVQjcK8",
        "colab_type": "code",
        "colab": {}
      },
      "source": [
        ""
      ],
      "execution_count": 0,
      "outputs": []
    },
    {
      "cell_type": "code",
      "metadata": {
        "id": "vl_fSjufjcGY",
        "colab_type": "code",
        "colab": {}
      },
      "source": [
        ""
      ],
      "execution_count": 0,
      "outputs": []
    },
    {
      "cell_type": "code",
      "metadata": {
        "id": "qUwZJ-tbjcB6",
        "colab_type": "code",
        "colab": {}
      },
      "source": [
        ""
      ],
      "execution_count": 0,
      "outputs": []
    },
    {
      "cell_type": "code",
      "metadata": {
        "colab_type": "code",
        "id": "ZjM-3EmM6itd",
        "colab": {}
      },
      "source": [
        "sel_bands = sorted([ 68, 182,  73, 149,  63, 111, 106, 116, 154, 144,  78,  58, 159, 101, 139])"
      ],
      "execution_count": 0,
      "outputs": []
    },
    {
      "cell_type": "code",
      "metadata": {
        "colab_type": "code",
        "id": "5yXr1gQ87H86",
        "colab": {}
      },
      "source": [
        "X, y = loadData()"
      ],
      "execution_count": 0,
      "outputs": []
    },
    {
      "cell_type": "code",
      "metadata": {
        "colab_type": "code",
        "id": "IbXKhXmn7hiT",
        "colab": {}
      },
      "source": [
        "X_ = X[:, :, sel_bands[0]]\n",
        "for i in sel_bands[1:]:\n",
        "  X_ = np.dstack((X_, X[:, :, i]))"
      ],
      "execution_count": 0,
      "outputs": []
    },
    {
      "cell_type": "code",
      "metadata": {
        "colab_type": "code",
        "id": "JmJLUQ4B8T_N",
        "colab": {}
      },
      "source": [
        "X_.shape"
      ],
      "execution_count": 0,
      "outputs": []
    },
    {
      "cell_type": "code",
      "metadata": {
        "colab_type": "code",
        "id": "lbk4aNAGUkSj",
        "colab": {}
      },
      "source": [
        "img_rows, img_cols = 11, 11\n",
        "nb_classes = 16\n",
        "img_channels = 15"
      ],
      "execution_count": 0,
      "outputs": []
    },
    {
      "cell_type": "code",
      "metadata": {
        "colab_type": "code",
        "id": "3uMzXi8GBToQ",
        "colab": {}
      },
      "source": [
        "import ssrn_SS_IN \n",
        "\n",
        "model_res4 = ssrn_SS_IN.ResnetBuilder.build_resnet_8((1, img_rows, img_cols, img_channels), nb_classes)"
      ],
      "execution_count": 0,
      "outputs": []
    },
    {
      "cell_type": "code",
      "metadata": {
        "colab_type": "code",
        "id": "NQiz0-kURGPb",
        "colab": {}
      },
      "source": [
        "# ## input layer\n",
        "# input_layer = Input((5, 5, 30, 1))\n",
        "\n",
        "# ## convolutional layers\n",
        "# conv_layer1 = Conv3D(filters=8, kernel_size=(3, 3, 7), activation='relu', padding='same')(input_layer)\n",
        "# conv_layer2 = Conv3D(filters=16, kernel_size=(3, 3, 5), activation='relu', padding='same')(conv_layer1)\n",
        "# conv_layer3 = Conv3D(filters=32, kernel_size=(3, 3, 3), activation='relu', padding='same')(conv_layer2)\n",
        "# print(conv_layer3._keras_shape)\n",
        "# conv3d_shape = conv_layer3._keras_shape\n",
        "# conv_layer3 = Reshape((conv3d_shape[1], conv3d_shape[2], conv3d_shape[3]*conv3d_shape[4]))(conv_layer3)\n",
        "# conv_layer4 = Conv2D(filters=64, kernel_size=(3,3), activation='relu')(conv_layer3)\n",
        "\n",
        "# flatten_layer = Flatten()(conv_layer4)\n",
        "\n",
        "# ## fully connected layers\n",
        "# dense_layer1 = Dense(units=256, activation='relu')(flatten_layer)\n",
        "# dense_layer1 = Dropout(0.4)(dense_layer1)\n",
        "# dense_layer2 = Dense(units=128, activation='relu')(dense_layer1)\n",
        "# dense_layer2 = Dropout(0.4)(dense_layer2)\n",
        "# output_layer = Dense(units=16, activation='softmax')(dense_layer2)\n",
        "\n",
        "# model_res4 = Model(inputs=input_layer, outputs=output_layer)"
      ],
      "execution_count": 0,
      "outputs": []
    },
    {
      "cell_type": "code",
      "metadata": {
        "colab_type": "code",
        "id": "-vR2L60-RNBO",
        "colab": {}
      },
      "source": [
        "adam = Adam(lr=0.0001, decay=1e-06)\n",
        "model_res4.compile(loss='categorical_crossentropy', optimizer=adam, metrics=['accuracy'])"
      ],
      "execution_count": 0,
      "outputs": []
    },
    {
      "cell_type": "code",
      "metadata": {
        "colab_type": "code",
        "id": "ckGYb7rLYJkY",
        "colab": {}
      },
      "source": [
        "X, y = createImageCubes(X_, y, 11)"
      ],
      "execution_count": 0,
      "outputs": []
    },
    {
      "cell_type": "code",
      "metadata": {
        "colab_type": "code",
        "id": "6242dhHqNgYJ",
        "colab": {}
      },
      "source": [
        "X.shape, y.shape"
      ],
      "execution_count": 0,
      "outputs": []
    },
    {
      "cell_type": "code",
      "metadata": {
        "colab_type": "code",
        "id": "lSFgxTJNPJxr",
        "colab": {}
      },
      "source": [
        "def splitTrainTestSet(X, y, testRatio, randomState=345):\n",
        "    X_train, X_test, y_train, y_test = train_test_split(X, y, test_size=testRatio, random_state=randomState,\n",
        "                                                        stratify=y)\n",
        "    return X_train, X_test, y_train, y_test"
      ],
      "execution_count": 0,
      "outputs": []
    },
    {
      "cell_type": "code",
      "metadata": {
        "colab_type": "code",
        "id": "TJPJ9yL-NjPG",
        "colab": {}
      },
      "source": [
        "Xtrain, Xtest, ytrain, ytest = splitTrainTestSet(X, y, 0.5)\n",
        "\n",
        "Xtrain.shape, Xtest.shape, ytrain.shape, ytest.shape"
      ],
      "execution_count": 0,
      "outputs": []
    },
    {
      "cell_type": "code",
      "metadata": {
        "colab_type": "code",
        "id": "CupnGFcvPC-R",
        "colab": {}
      },
      "source": [
        "Xtrain, Xvalid, ytrain, yvalid = splitTrainTestSet(Xtrain, ytrain, 0.5)\n",
        "\n",
        "Xtrain.shape, Xvalid.shape, ytrain.shape, yvalid.shape"
      ],
      "execution_count": 0,
      "outputs": []
    },
    {
      "cell_type": "code",
      "metadata": {
        "colab_type": "code",
        "id": "dhHtm07CPZC6",
        "colab": {}
      },
      "source": [
        "Xtrain = Xtrain.reshape(-1, 11, 11, 15, 1)\n",
        "Xtrain.shape"
      ],
      "execution_count": 0,
      "outputs": []
    },
    {
      "cell_type": "code",
      "metadata": {
        "colab_type": "code",
        "id": "h_lXHKcIPg5P",
        "colab": {}
      },
      "source": [
        "Xvalid = Xvalid.reshape(-1, 11, 11, 15, 1)\n",
        "Xvalid.shape"
      ],
      "execution_count": 0,
      "outputs": []
    },
    {
      "cell_type": "code",
      "metadata": {
        "colab_type": "code",
        "id": "ROce1ja1Pr3T",
        "colab": {}
      },
      "source": [
        "ytrain = np_utils.to_categorical(ytrain)\n",
        "ytrain.shape"
      ],
      "execution_count": 0,
      "outputs": []
    },
    {
      "cell_type": "code",
      "metadata": {
        "colab_type": "code",
        "id": "WfcO5jA6PwnI",
        "colab": {}
      },
      "source": [
        "yvalid = np_utils.to_categorical(yvalid)\n",
        "yvalid.shape"
      ],
      "execution_count": 0,
      "outputs": []
    },
    {
      "cell_type": "code",
      "metadata": {
        "colab_type": "code",
        "id": "leGgi6LfP3Yp",
        "colab": {}
      },
      "source": [
        "model_res4.summary()"
      ],
      "execution_count": 0,
      "outputs": []
    },
    {
      "cell_type": "code",
      "metadata": {
        "colab_type": "code",
        "id": "RO1as-LZQDLh",
        "colab": {}
      },
      "source": [
        "history = model_res4.fit(x=Xtrain, y=ytrain, batch_size=64, epochs=500, validation_data=(Xvalid, yvalid))"
      ],
      "execution_count": 0,
      "outputs": []
    },
    {
      "cell_type": "code",
      "metadata": {
        "colab_type": "code",
        "id": "gkDXf5iEQZz2",
        "colab": {}
      },
      "source": [
        "Xtest = Xtest.reshape(-1, 11, 11, 15, 1)\n",
        "Xtest.shape"
      ],
      "execution_count": 0,
      "outputs": []
    },
    {
      "cell_type": "code",
      "metadata": {
        "colab_type": "code",
        "id": "t6PwhEPArDKi",
        "colab": {}
      },
      "source": [
        "ytest = np_utils.to_categorical(ytest)\n",
        "ytest.shape"
      ],
      "execution_count": 0,
      "outputs": []
    },
    {
      "cell_type": "code",
      "metadata": {
        "colab_type": "code",
        "id": "jq8_dH9arGSv",
        "colab": {}
      },
      "source": [
        "from sklearn.metrics import confusion_matrix, accuracy_score, classification_report, cohen_kappa_score\n",
        "\n",
        "Y_pred_test = model_res4.predict(Xtest)\n",
        "y_pred_test = np.argmax(Y_pred_test, axis=1)\n",
        "\n",
        "classification = classification_report(np.argmax(ytest, axis=1), y_pred_test)\n",
        "print(classification)"
      ],
      "execution_count": 0,
      "outputs": []
    },
    {
      "cell_type": "code",
      "metadata": {
        "colab_type": "code",
        "id": "xPrK2AgVrNxq",
        "colab": {}
      },
      "source": [
        "def AA_andEachClassAccuracy(confusion_matrix):\n",
        "    counter = confusion_matrix.shape[0]\n",
        "    list_diag = np.diag(confusion_matrix)\n",
        "    list_raw_sum = np.sum(confusion_matrix, axis=1)\n",
        "    each_acc = np.nan_to_num(truediv(list_diag, list_raw_sum))\n",
        "    average_acc = np.mean(each_acc)\n",
        "    return each_acc, average_acc"
      ],
      "execution_count": 0,
      "outputs": []
    },
    {
      "cell_type": "code",
      "metadata": {
        "colab_type": "code",
        "id": "hwfob-BpsA-4",
        "colab": {}
      },
      "source": [
        "def reports (X_test,y_test):\n",
        "    #start = time.time()\n",
        "    Y_pred = model_res4.predict(X_test)\n",
        "    y_pred = np.argmax(Y_pred, axis=1)\n",
        "    #end = time.time()\n",
        "    #print(end - start)\n",
        "\n",
        "    target_names = ['Alfalfa', 'Corn-notill', 'Corn-mintill', 'Corn'\n",
        "                    ,'Grass-pasture', 'Grass-trees', 'Grass-pasture-mowed', \n",
        "                    'Hay-windrowed', 'Oats', 'Soybean-notill', 'Soybean-mintill',\n",
        "                    'Soybean-clean', 'Wheat', 'Woods', 'Buildings-Grass-Trees-Drives',\n",
        "                    'Stone-Steel-Towers']\n",
        "\n",
        "    classification = classification_report(np.argmax(y_test, axis=1), y_pred, target_names=target_names)\n",
        "    oa = accuracy_score(np.argmax(y_test, axis=1), y_pred)\n",
        "    confusion = confusion_matrix(np.argmax(y_test, axis=1), y_pred)\n",
        "    each_acc, aa = AA_andEachClassAccuracy(confusion)\n",
        "    kappa = cohen_kappa_score(np.argmax(y_test, axis=1), y_pred)\n",
        "    score = model_res4.evaluate(X_test, y_test, batch_size=32)\n",
        "    Test_Loss =  score[0]*100\n",
        "    Test_accuracy = score[1]*100\n",
        "    \n",
        "    return classification, confusion, Test_Loss, Test_accuracy, oa*100, each_acc*100, aa*100, kappa*100"
      ],
      "execution_count": 0,
      "outputs": []
    },
    {
      "cell_type": "code",
      "metadata": {
        "colab_type": "code",
        "id": "D5PpzPyhsJ5y",
        "colab": {}
      },
      "source": [
        "classification, confusion, Test_loss, Test_accuracy, oa, each_acc, aa, kappa = reports(Xtest,ytest)\n",
        "classification = str(classification)\n",
        "confusion = str(confusion)\n",
        "file_name = \"classification_report.txt\"\n",
        "\n",
        "with open(file_name, 'w') as x_file:\n",
        "    x_file.write('{} Test loss (%)'.format(Test_loss))\n",
        "    x_file.write('\\n')\n",
        "    x_file.write('{} Test accuracy (%)'.format(Test_accuracy))\n",
        "    x_file.write('\\n')\n",
        "    x_file.write('\\n')\n",
        "    x_file.write('{} Kappa accuracy (%)'.format(kappa))\n",
        "    x_file.write('\\n')\n",
        "    x_file.write('{} Overall accuracy (%)'.format(oa))\n",
        "    x_file.write('\\n')\n",
        "    x_file.write('{} Average accuracy (%)'.format(aa))\n",
        "    x_file.write('\\n')\n",
        "    x_file.write('\\n')\n",
        "    x_file.write('{}'.format(classification))\n",
        "    x_file.write('\\n')\n",
        "    x_file.write('{}'.format(confusion))"
      ],
      "execution_count": 0,
      "outputs": []
    },
    {
      "cell_type": "code",
      "metadata": {
        "colab_type": "code",
        "id": "jqSkmfwfsaBm",
        "colab": {}
      },
      "source": [
        ""
      ],
      "execution_count": 0,
      "outputs": []
    }
  ]
}